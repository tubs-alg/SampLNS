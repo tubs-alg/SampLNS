{
 "cells": [
  {
   "cell_type": "code",
   "execution_count": 4,
   "metadata": {},
   "outputs": [
    {
     "name": "stdout",
     "output_type": "stream",
     "text": [
      "An entry in the database can look like this:\n",
      "_____________________________________________\n",
      " result:\n",
      "| solution: [{'pollydefaulttilesize_4': False, 'root_3': True, 'pollydefaulttilesize_16':...\n",
      "| lower_bound: 25\n",
      "| upper_bound: 25\n",
      "| optimal: True\n",
      "| iteration_info: [{'nbrhd_tuples': 239, 'nbrhd_confs': 173, 'iteration': 0, 'lb': 25, 'ub': 31...\n",
      " timestamp: 2023-07-25T13:30:35.202600\n",
      " runtime: 23.928314447402954\n",
      " stdout: None\n",
      " stderr: None\n",
      " logging: [{'name': 'SampLNS', 'msg': \"Parsed instance '%s' with %d features and %d rul...\n",
      " env_fingerprint: 6d7299df6f480db5342f3895c967268f04f43927\n",
      " args_fingerprint: 29a94f23a1c2cf378e2d8d016c3ce91e50d3670d\n",
      " parameters:\n",
      "| func: run_samplns\n",
      "| args:\n",
      "|| instance_name: Polly\n",
      "|| sample_method: ICPL_3\n",
      "|| iterations: 10000\n",
      "|| iteration_time_limit: 60.0\n",
      "|| time_limit: 90\n",
      "|| verify: True\n",
      "|| fast_verify: True\n",
      " argv: ['01_run_samplns.py']\n",
      " env:\n",
      "| hostname: workstation-r7\n",
      "| python_version: 3.10.9 (main, Jan 11 2023, 15:21:40) [GCC 11.2.0]\n",
      "| python: /home/krupke/anaconda3/envs/mo310/bin/python\n",
      "| cwd: /home/krupke/Repositories/SampLNS/evaluation/03_reinforcment_learning_comparison\n",
      "| environment: [{'name': 'virtualenv', 'path': '/home/krupke/.local/lib/python3.10/site-pack...\n",
      "| git_revision: 1e56991850270de2a4ecbeaa78c7312a593f7adf\n",
      "| python_file: /home/krupke/Repositories/SampLNS/evaluation/03_reinforcment_learning_compari...\n",
      "______________________________________________\n",
      "Note that this is only based on the first entry, other entries could differ.\n"
     ]
    }
   ],
   "source": [
    "\n",
    "from _conf import *\n",
    "\n",
    "from algbench import describe\n",
    "\n",
    "describe(RESULT_FOLDER)"
   ]
  }
 ],
 "metadata": {
  "kernelspec": {
   "display_name": "mo310",
   "language": "python",
   "name": "python3"
  },
  "language_info": {
   "codemirror_mode": {
    "name": "ipython",
    "version": 3
   },
   "file_extension": ".py",
   "mimetype": "text/x-python",
   "name": "python",
   "nbconvert_exporter": "python",
   "pygments_lexer": "ipython3",
   "version": "3.10.9"
  },
  "orig_nbformat": 4
 },
 "nbformat": 4,
 "nbformat_minor": 2
}
