{
 "cells": [
  {
   "cell_type": "code",
   "execution_count": 1,
   "metadata": {},
   "outputs": [
    {
     "name": "stdout",
     "output_type": "stream",
     "text": [
      "An entry in the database can look like this:\n",
      "_____________________________________________\n",
      " result:\n",
      "| samplns_used: True\n",
      "| time_used_by_yasa: 3.395\n",
      "| timelimit_for_samplns: 3596.605\n",
      "| solution: [{'CYGPKG_NS_DNS_TESTS_ELSIS': True, 'CYGHWR_NET_DRIVER_ETH1_MANUAL': False, ...\n",
      "| lower_bound: 32\n",
      "| upper_bound: 40\n",
      "| optimal: False\n",
      "| iteration_info: [{'nbrhd_tuples': 210, 'nbrhd_confs': 9, 'iteration': 0, 'lb': 29, 'ub': 67, ...\n",
      " timestamp: 2023-08-14T10:11:52.351971\n",
      " runtime: 3708.0565705299377\n",
      " stdout: [[0.06504225730895996, 'Parsing FeatureIDE\\n']]\n",
      " stderr: []\n",
      " logging: [{'name': 'SampLNS', 'msg': \"Parsed instance '%s' with %d features and %d rul...\n",
      " env_fingerprint: d68b31b9f1ba1d19767187792c53bcbf455e9737\n",
      " args_fingerprint: e7992ddb8d815989d9e0516fc45e33a25390d9da\n",
      " parameters:\n",
      "| func: run_samplns\n",
      "| args:\n",
      "|| instance_name: XSEngine\n",
      "|| initial_sample_path: 2023-03-01_13-51-03/44_1_7_1_sample.csv\n",
      "|| instance_archive: ../benchmark_models.zip\n",
      "|| input_sample_archive: ../01_ICSE_2024_0/00_baseline/900_seconds_5_it.zip\n",
      "|| iterations: 10000\n",
      "|| iteration_time_limit: 120.0\n",
      "|| time_limit: 3600\n",
      "|| verify: True\n",
      "|| fast_verify: True\n",
      " argv: ['/ibr/home/krupke/anaconda3/envs/mo310/lib/python3.10/site-packages/slurmina...\n",
      " env:\n",
      "| hostname: algry01\n",
      "| python_version: 3.10.8 (main, Nov 24 2022, 14:13:03) [GCC 11.2.0]\n",
      "| python: /ibr/home/krupke/anaconda3/envs/mo310/bin/python3\n",
      "| cwd: /misc/ibr/home/krupke/SampLNS/evaluation/08_longer_iterations\n",
      "| environment: [{'name': 'certifi', 'path': '/misc/ibr/home/krupke/anaconda3/envs/mo310/lib/...\n",
      "| git_revision: 6e95cc6fbc04c8dc9acbc59da5271bd2ffcba2b0\n",
      "| python_file: /ibr/home/krupke/anaconda3/envs/mo310/lib/python3.10/site-packages/slurminade...\n",
      "______________________________________________\n",
      "Note that this is only based on the first entry, other entries could differ.\n"
     ]
    }
   ],
   "source": [
    "from _conf import (\n",
    "    ITERATIONS,\n",
    "    ITERATION_TIME_LIMIT,\n",
    "    TIME_LIMIT,\n",
    "    BASE,\n",
    "    RESULT_FOLDER,\n",
    "    INPUT_SAMPLE_ARCHIVE,\n",
    "    INSTANCE_ARCHIVE,\n",
    ")\n",
    "\n",
    "\n",
    "from algbench import describe\n",
    "\n",
    "describe(RESULT_FOLDER)"
   ]
  },
  {
   "cell_type": "code",
   "execution_count": null,
   "metadata": {},
   "outputs": [],
   "source": []
  },
  {
   "cell_type": "code",
   "execution_count": null,
   "metadata": {},
   "outputs": [],
   "source": []
  }
 ],
 "metadata": {
  "kernelspec": {
   "display_name": "mo310",
   "language": "python",
   "name": "python3"
  },
  "language_info": {
   "codemirror_mode": {
    "name": "ipython",
    "version": 3
   },
   "file_extension": ".py",
   "mimetype": "text/x-python",
   "name": "python",
   "nbconvert_exporter": "python",
   "pygments_lexer": "ipython3",
   "version": "3.10.12"
  },
  "orig_nbformat": 4
 },
 "nbformat": 4,
 "nbformat_minor": 2
}
