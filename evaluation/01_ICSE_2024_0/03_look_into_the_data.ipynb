{
 "cells": [
  {
   "cell_type": "markdown",
   "source": [
    "# Looking into the Data\n",
    "\n",
    "This file shall quickly look into the data available (provided and self-produced)"
   ],
   "metadata": {
    "collapsed": false
   }
  },
  {
   "cell_type": "markdown",
   "source": [
    "## Getting the data\n",
    "\n",
    "To easily access the data, there is the function `get_results` in utils.\n",
    "\n",
    "If you want to change the input data, just change the paths!"
   ],
   "metadata": {
    "collapsed": false
   }
  },
  {
   "cell_type": "code",
   "execution_count": 1,
   "outputs": [
    {
     "name": "stdout",
     "output_type": "stream",
     "text": [
      "Found the data folders: {'2023-03-01_13-51-03/'}\n",
      "Removed 0 results because of size constraint.\n"
     ]
    }
   ],
   "source": [
    "# Loading the data of the experiment.\n",
    "from _utils import get_results\n",
    "\n",
    "# CHECK THAT THESE ARE THE CORRECT PATHS!\n",
    "INPUT_SAMPLE_ARCHIVE = \"./00_baseline/900_seconds_5_it.zip\"\n",
    "INSTANCE_ARCHIVE = \"./00_benchmark_instances.zip\"\n",
    "RESULT_FOLDER = \"./01_results/900_seconds_5_it_900/\"\n",
    "\n",
    "data = get_results(\n",
    "    input_sample_archive=INPUT_SAMPLE_ARCHIVE, result_folder=RESULT_FOLDER\n",
    ")"
   ],
   "metadata": {
    "collapsed": false
   }
  },
  {
   "cell_type": "code",
   "execution_count": 2,
   "outputs": [
    {
     "data": {
      "text/plain": "                        instance                       initial_sample_path  \\\n0                  BattleofTanks   2023-03-01_13-51-03/22_1_2_2_sample.csv   \n1                       XSEngine   2023-03-01_13-51-03/44_1_8_3_sample.csv   \n2     toybox_2006-10-31_23-30-06    2023-03-01_13-51-03/5_1_6_3_sample.csv   \n3                            APL    2023-03-01_13-51-03/9_1_9_5_sample.csv   \n4                       aaed2000   2023-03-01_13-51-03/45_1_9_2_sample.csv   \n...                          ...                                       ...   \n2351               FreeBSD-8_0_0   2023-03-01_13-51-03/46_1_5_5_sample.csv   \n2352                      ea2468  2023-03-01_13-51-03/47_1_10_3_sample.csv   \n2353                      ea2468  2023-03-01_13-51-03/47_1_10_2_sample.csv   \n2354                  EMBToolkit   2023-03-01_13-51-03/40_1_5_5_sample.csv   \n2355               FreeBSD-8_0_0   2023-03-01_13-51-03/46_1_5_4_sample.csv   \n\n      iteration_time_limit  iterations  time_limit  \\\n0                     60.0       10000         900   \n1                     60.0       10000         900   \n2                     60.0       10000         900   \n3                     60.0       10000         900   \n4                     60.0       10000         900   \n...                    ...         ...         ...   \n2351                  60.0       10000         900   \n2352                  60.0       10000         900   \n2353                  60.0       10000         900   \n2354                  60.0       10000         900   \n2355                  60.0       10000         900   \n\n                                               solution  lower_bound  \\\n0     [{'Feature_41': False, 'Feature_113': False, '...        256.0   \n1     [{'CYGDBG_HAL_COMMON_INTERRUPTS_SAVE_MINIMUM_C...         32.0   \n2     [{'CONFIG_CONFIG_DF_PEDANTIC': False, 'CONFIG_...          8.0   \n3     [{'me': True, 'jedi': False, 'guidsl': False, ...          7.0   \n4     [{'CYGFUN_IO_FILEIO_SELECT': False, 'CYGIMP_IN...         47.0   \n...                                                 ...          ...   \n2351  [{'ahci': False, 'XEN_PRIVILEGED_GUEST': True,...         20.0   \n2352  [{'CYGPKG_DEVS_CAN_LPC2XXX': False, 'CYGPKG_DE...         27.0   \n2353  [{'CYGBLD_ISO_STDIO_POSIX_FDFUNCS_HEADER': Tru...         29.0   \n2354  [{'EMBTK_ARCH_ARM_FAMILY_ARM7TDMI_ARM720T': Fa...       1836.0   \n2355  [{'NETGRAPH_BLUETOOTH_BT3C': True, 'ubsec': Fa...         26.0   \n\n      upper_bound  optimal      runtime  ... Success    Time SampleSize  \\\n0             327    False   952.572860  ...    True    2135        517   \n1              39    False   944.018775  ...    True    8794         67   \n2               8     True     3.008469  ...    True     297         10   \n3               7     True     1.938723  ...    True     230          9   \n4              58    False   961.907928  ...    True   15816         89   \n...           ...      ...          ...  ...     ...     ...        ...   \n2351           59    False  1008.994258  ...    True   31822         76   \n2352           41    False   956.605543  ...    True   28270         65   \n2353           40    False   944.704661  ...    True   28139         65   \n2354         1886    False  3463.717989  ...    True  174555       1886   \n2355           59    False   996.023944  ...    True   31569         76   \n\n                        Instance #Variables #Clauses  Algorithm     Settings  \\\n0                  BattleofTanks        144      769    Incling           t2   \n1                       XSEngine       1273     2942       YASA   t2_m3_null   \n2     toybox_2006-10-31_23-30-06         16       13  FIDE-YASA  t2_m10_null   \n3                            APL         23       35       YASA   t2_m5_null   \n4                       aaed2000       1298     3036       YASA   t2_m5_null   \n...                          ...        ...      ...        ...          ...   \n2351               FreeBSD-8_0_0       1397    15692  FIDE-YASA   t2_m5_null   \n2352                      ea2468       1408     3319       YASA  t2_m10_null   \n2353                      ea2468       1408     3319       YASA  t2_m10_null   \n2354                  EMBToolkit       1179     5414  FIDE-YASA   t2_m5_null   \n2355               FreeBSD-8_0_0       1397    15692  FIDE-YASA   t2_m5_null   \n\n                                          Path     baseline_alg  \n0      2023-03-01_13-51-03/22_1_2_2_sample.csv          Incling  \n1      2023-03-01_13-51-03/44_1_8_3_sample.csv        YASA(m=3)  \n2       2023-03-01_13-51-03/5_1_6_3_sample.csv  FIDE-YASA(m=10)  \n3       2023-03-01_13-51-03/9_1_9_5_sample.csv        YASA(m=5)  \n4      2023-03-01_13-51-03/45_1_9_2_sample.csv        YASA(m=5)  \n...                                        ...              ...  \n2351   2023-03-01_13-51-03/46_1_5_5_sample.csv   FIDE-YASA(m=5)  \n2352  2023-03-01_13-51-03/47_1_10_3_sample.csv       YASA(m=10)  \n2353  2023-03-01_13-51-03/47_1_10_2_sample.csv       YASA(m=10)  \n2354   2023-03-01_13-51-03/40_1_5_5_sample.csv   FIDE-YASA(m=5)  \n2355   2023-03-01_13-51-03/46_1_5_4_sample.csv   FIDE-YASA(m=5)  \n\n[2356 rows x 34 columns]",
      "text/html": "<div>\n<style scoped>\n    .dataframe tbody tr th:only-of-type {\n        vertical-align: middle;\n    }\n\n    .dataframe tbody tr th {\n        vertical-align: top;\n    }\n\n    .dataframe thead th {\n        text-align: right;\n    }\n</style>\n<table border=\"1\" class=\"dataframe\">\n  <thead>\n    <tr style=\"text-align: right;\">\n      <th></th>\n      <th>instance</th>\n      <th>initial_sample_path</th>\n      <th>iteration_time_limit</th>\n      <th>iterations</th>\n      <th>time_limit</th>\n      <th>solution</th>\n      <th>lower_bound</th>\n      <th>upper_bound</th>\n      <th>optimal</th>\n      <th>runtime</th>\n      <th>...</th>\n      <th>Success</th>\n      <th>Time</th>\n      <th>SampleSize</th>\n      <th>Instance</th>\n      <th>#Variables</th>\n      <th>#Clauses</th>\n      <th>Algorithm</th>\n      <th>Settings</th>\n      <th>Path</th>\n      <th>baseline_alg</th>\n    </tr>\n  </thead>\n  <tbody>\n    <tr>\n      <th>0</th>\n      <td>BattleofTanks</td>\n      <td>2023-03-01_13-51-03/22_1_2_2_sample.csv</td>\n      <td>60.0</td>\n      <td>10000</td>\n      <td>900</td>\n      <td>[{'Feature_41': False, 'Feature_113': False, '...</td>\n      <td>256.0</td>\n      <td>327</td>\n      <td>False</td>\n      <td>952.572860</td>\n      <td>...</td>\n      <td>True</td>\n      <td>2135</td>\n      <td>517</td>\n      <td>BattleofTanks</td>\n      <td>144</td>\n      <td>769</td>\n      <td>Incling</td>\n      <td>t2</td>\n      <td>2023-03-01_13-51-03/22_1_2_2_sample.csv</td>\n      <td>Incling</td>\n    </tr>\n    <tr>\n      <th>1</th>\n      <td>XSEngine</td>\n      <td>2023-03-01_13-51-03/44_1_8_3_sample.csv</td>\n      <td>60.0</td>\n      <td>10000</td>\n      <td>900</td>\n      <td>[{'CYGDBG_HAL_COMMON_INTERRUPTS_SAVE_MINIMUM_C...</td>\n      <td>32.0</td>\n      <td>39</td>\n      <td>False</td>\n      <td>944.018775</td>\n      <td>...</td>\n      <td>True</td>\n      <td>8794</td>\n      <td>67</td>\n      <td>XSEngine</td>\n      <td>1273</td>\n      <td>2942</td>\n      <td>YASA</td>\n      <td>t2_m3_null</td>\n      <td>2023-03-01_13-51-03/44_1_8_3_sample.csv</td>\n      <td>YASA(m=3)</td>\n    </tr>\n    <tr>\n      <th>2</th>\n      <td>toybox_2006-10-31_23-30-06</td>\n      <td>2023-03-01_13-51-03/5_1_6_3_sample.csv</td>\n      <td>60.0</td>\n      <td>10000</td>\n      <td>900</td>\n      <td>[{'CONFIG_CONFIG_DF_PEDANTIC': False, 'CONFIG_...</td>\n      <td>8.0</td>\n      <td>8</td>\n      <td>True</td>\n      <td>3.008469</td>\n      <td>...</td>\n      <td>True</td>\n      <td>297</td>\n      <td>10</td>\n      <td>toybox_2006-10-31_23-30-06</td>\n      <td>16</td>\n      <td>13</td>\n      <td>FIDE-YASA</td>\n      <td>t2_m10_null</td>\n      <td>2023-03-01_13-51-03/5_1_6_3_sample.csv</td>\n      <td>FIDE-YASA(m=10)</td>\n    </tr>\n    <tr>\n      <th>3</th>\n      <td>APL</td>\n      <td>2023-03-01_13-51-03/9_1_9_5_sample.csv</td>\n      <td>60.0</td>\n      <td>10000</td>\n      <td>900</td>\n      <td>[{'me': True, 'jedi': False, 'guidsl': False, ...</td>\n      <td>7.0</td>\n      <td>7</td>\n      <td>True</td>\n      <td>1.938723</td>\n      <td>...</td>\n      <td>True</td>\n      <td>230</td>\n      <td>9</td>\n      <td>APL</td>\n      <td>23</td>\n      <td>35</td>\n      <td>YASA</td>\n      <td>t2_m5_null</td>\n      <td>2023-03-01_13-51-03/9_1_9_5_sample.csv</td>\n      <td>YASA(m=5)</td>\n    </tr>\n    <tr>\n      <th>4</th>\n      <td>aaed2000</td>\n      <td>2023-03-01_13-51-03/45_1_9_2_sample.csv</td>\n      <td>60.0</td>\n      <td>10000</td>\n      <td>900</td>\n      <td>[{'CYGFUN_IO_FILEIO_SELECT': False, 'CYGIMP_IN...</td>\n      <td>47.0</td>\n      <td>58</td>\n      <td>False</td>\n      <td>961.907928</td>\n      <td>...</td>\n      <td>True</td>\n      <td>15816</td>\n      <td>89</td>\n      <td>aaed2000</td>\n      <td>1298</td>\n      <td>3036</td>\n      <td>YASA</td>\n      <td>t2_m5_null</td>\n      <td>2023-03-01_13-51-03/45_1_9_2_sample.csv</td>\n      <td>YASA(m=5)</td>\n    </tr>\n    <tr>\n      <th>...</th>\n      <td>...</td>\n      <td>...</td>\n      <td>...</td>\n      <td>...</td>\n      <td>...</td>\n      <td>...</td>\n      <td>...</td>\n      <td>...</td>\n      <td>...</td>\n      <td>...</td>\n      <td>...</td>\n      <td>...</td>\n      <td>...</td>\n      <td>...</td>\n      <td>...</td>\n      <td>...</td>\n      <td>...</td>\n      <td>...</td>\n      <td>...</td>\n      <td>...</td>\n      <td>...</td>\n    </tr>\n    <tr>\n      <th>2351</th>\n      <td>FreeBSD-8_0_0</td>\n      <td>2023-03-01_13-51-03/46_1_5_5_sample.csv</td>\n      <td>60.0</td>\n      <td>10000</td>\n      <td>900</td>\n      <td>[{'ahci': False, 'XEN_PRIVILEGED_GUEST': True,...</td>\n      <td>20.0</td>\n      <td>59</td>\n      <td>False</td>\n      <td>1008.994258</td>\n      <td>...</td>\n      <td>True</td>\n      <td>31822</td>\n      <td>76</td>\n      <td>FreeBSD-8_0_0</td>\n      <td>1397</td>\n      <td>15692</td>\n      <td>FIDE-YASA</td>\n      <td>t2_m5_null</td>\n      <td>2023-03-01_13-51-03/46_1_5_5_sample.csv</td>\n      <td>FIDE-YASA(m=5)</td>\n    </tr>\n    <tr>\n      <th>2352</th>\n      <td>ea2468</td>\n      <td>2023-03-01_13-51-03/47_1_10_3_sample.csv</td>\n      <td>60.0</td>\n      <td>10000</td>\n      <td>900</td>\n      <td>[{'CYGPKG_DEVS_CAN_LPC2XXX': False, 'CYGPKG_DE...</td>\n      <td>27.0</td>\n      <td>41</td>\n      <td>False</td>\n      <td>956.605543</td>\n      <td>...</td>\n      <td>True</td>\n      <td>28270</td>\n      <td>65</td>\n      <td>ea2468</td>\n      <td>1408</td>\n      <td>3319</td>\n      <td>YASA</td>\n      <td>t2_m10_null</td>\n      <td>2023-03-01_13-51-03/47_1_10_3_sample.csv</td>\n      <td>YASA(m=10)</td>\n    </tr>\n    <tr>\n      <th>2353</th>\n      <td>ea2468</td>\n      <td>2023-03-01_13-51-03/47_1_10_2_sample.csv</td>\n      <td>60.0</td>\n      <td>10000</td>\n      <td>900</td>\n      <td>[{'CYGBLD_ISO_STDIO_POSIX_FDFUNCS_HEADER': Tru...</td>\n      <td>29.0</td>\n      <td>40</td>\n      <td>False</td>\n      <td>944.704661</td>\n      <td>...</td>\n      <td>True</td>\n      <td>28139</td>\n      <td>65</td>\n      <td>ea2468</td>\n      <td>1408</td>\n      <td>3319</td>\n      <td>YASA</td>\n      <td>t2_m10_null</td>\n      <td>2023-03-01_13-51-03/47_1_10_2_sample.csv</td>\n      <td>YASA(m=10)</td>\n    </tr>\n    <tr>\n      <th>2354</th>\n      <td>EMBToolkit</td>\n      <td>2023-03-01_13-51-03/40_1_5_5_sample.csv</td>\n      <td>60.0</td>\n      <td>10000</td>\n      <td>900</td>\n      <td>[{'EMBTK_ARCH_ARM_FAMILY_ARM7TDMI_ARM720T': Fa...</td>\n      <td>1836.0</td>\n      <td>1886</td>\n      <td>False</td>\n      <td>3463.717989</td>\n      <td>...</td>\n      <td>True</td>\n      <td>174555</td>\n      <td>1886</td>\n      <td>EMBToolkit</td>\n      <td>1179</td>\n      <td>5414</td>\n      <td>FIDE-YASA</td>\n      <td>t2_m5_null</td>\n      <td>2023-03-01_13-51-03/40_1_5_5_sample.csv</td>\n      <td>FIDE-YASA(m=5)</td>\n    </tr>\n    <tr>\n      <th>2355</th>\n      <td>FreeBSD-8_0_0</td>\n      <td>2023-03-01_13-51-03/46_1_5_4_sample.csv</td>\n      <td>60.0</td>\n      <td>10000</td>\n      <td>900</td>\n      <td>[{'NETGRAPH_BLUETOOTH_BT3C': True, 'ubsec': Fa...</td>\n      <td>26.0</td>\n      <td>59</td>\n      <td>False</td>\n      <td>996.023944</td>\n      <td>...</td>\n      <td>True</td>\n      <td>31569</td>\n      <td>76</td>\n      <td>FreeBSD-8_0_0</td>\n      <td>1397</td>\n      <td>15692</td>\n      <td>FIDE-YASA</td>\n      <td>t2_m5_null</td>\n      <td>2023-03-01_13-51-03/46_1_5_4_sample.csv</td>\n      <td>FIDE-YASA(m=5)</td>\n    </tr>\n  </tbody>\n</table>\n<p>2356 rows × 34 columns</p>\n</div>"
     },
     "execution_count": 2,
     "metadata": {},
     "output_type": "execute_result"
    }
   ],
   "source": [
    "# Example row\n",
    "data"
   ],
   "metadata": {
    "collapsed": false
   }
  },
  {
   "cell_type": "code",
   "execution_count": 3,
   "outputs": [
    {
     "data": {
      "text/plain": "instance                                                    BattleofTanks\ninitial_sample_path               2023-03-01_13-51-03/22_1_2_2_sample.csv\niteration_time_limit                                                 60.0\niterations                                                          10000\ntime_limit                                                            900\nsolution                [{'Feature_41': False, 'Feature_113': False, '...\nlower_bound                                                         256.0\nupper_bound                                                           327\noptimal                                                             False\nruntime                                                         952.57286\niteration_info          [{'nbrhd_tuples': 248, 'nbrhd_confs': 114, 'it...\nstdout                  LOG[0.9603252410888672] [CdsLns] Building tran...\nstderr                                                                   \ntimestamp                                      2023-03-09T23:15:07.420792\nhostname                                                          algry01\nargv                    /ibr/home/krupke/anaconda3/envs/mo310/lib/pyth...\ngit_revision                     81379c9600d8b24dfc3d2910142013236d8b4db3\npython_env              [{'name': 'certifi', 'path': '/misc/ibr/home/k...\ncwd                     /misc/ibr/home/krupke/software-configuration-p...\nModelID                                                                22\nAlgorithmID                                                             2\nSystemIteration                                                         1\nAlgorithmIteration                                                      2\nInTime                                                               True\nSuccess                                                              True\nTime                                                                 2135\nSampleSize                                                            517\nInstance                                                    BattleofTanks\n#Variables                                                            144\n#Clauses                                                              769\nAlgorithm                                                         Incling\nSettings                                                               t2\nPath                              2023-03-01_13-51-03/22_1_2_2_sample.csv\nbaseline_alg                                                      Incling\nName: 0, dtype: object"
     },
     "execution_count": 3,
     "metadata": {},
     "output_type": "execute_result"
    }
   ],
   "source": [
    "data.iloc[0]"
   ],
   "metadata": {
    "collapsed": false
   }
  },
  {
   "cell_type": "markdown",
   "source": [
    "## Understanding the data\n",
    "\n",
    "Generally, stuff written in CamelCase is by Sebastian (old algorithms/baselines) and stuff in snake\\_case by us (SampLNS).\n",
    "\n",
    "* `instance`: Instance name\n",
    "* `initial_sample_path`: Path to the initial sample within the archive.\n",
    "* `iteration_time_limit`: Timelimit of a single iteration\n",
    "* `iterations`: Maximal number of iterations\n",
    "* `time_limit`: Overall timelimit for all iterations\n",
    "* `solution`: The solution, aka sample of SampLNS (list of dicts)\n",
    "* `lower_bound`: Lower bound (int). This is the lower bound computed in SampLNS. It may also be useful to compute a better LB separately.\n",
    "* `upper_bound`: Objective value of SampLNS\n",
    "* `runtime`: Runtime of SampLNS\n",
    "* `optimal`: Boolean indicating if the solution of SampLNS is optimal.\n",
    "* `timestamp`: Time at which the data for SampLNS was written\n",
    "* `iteration_info`: More complex information on what happened in each iteration of SampLNS. Mostly for debugging but can be used to estimate how long each part of an iteration takes.\n",
    "* `stdout`: Python print output. For debugging. Note that this may not capture lower level output that directly writes to the system's stdout.\n",
    "* `stderr` Python error output for debugging.\n",
    "* `hostname` Hostname on which SampLNS was run.\n",
    "* `argv` The arguments with which the Python-script was called. As we are using slurminade, this is quite useless.\n",
    "* `git_revision` The Git-revision of the SampLNS code. In case results are odd, you can check which code version was used.\n",
    "* `python_env` List of dicts with the whole Python environment.\n",
    "* `cwd` Current working directory during the execution of the Python script.\n",
    "* `ModelID` an ID from Sebastian revering to the instance. Unimportant, simply use the `instance` field as it should be unique.\n",
    "* `AlgorithmID` an ID from Sebastian, just use `baseline_alg` for a readable name.\n",
    "* `SystemIteration` I have no real idea, I think that is the `i` of the for-loop when all instances shall be solved multiple times.\n",
    "* `AlgorithmIteration` Probably similar to `SystemIteration`. Better use the `initial_sample_path` value to separate different samples by Sebastian.\n",
    "* `InTime` If Sebastian's code finished in time.\n",
    "* `Success` If sebastian's code succeeded. However, better check if `SampleSize>0`\n",
    "* `SampleSize`: The size of the sample returned by the initial algorithm.\n",
    "* `Instance` the same as `instance`, unique instance name\n",
    "* `#Variables` number of variables in the model. This seems to include non-concrete features.\n",
    "* `#Clauses` number of rules in the model.\n",
    "* `Algorithm` name of the algorithm that produced the inital solution\n",
    "* `Settings` settings used for the algorithm. Important for YASA as it has been used with different settings (m=1,5,10)\n",
    "* `Path` identical to `initial_sample_path`\n",
    "* `baseline_alg` Extended algorithm name `Algorithm` including `Settings`. Printable."
   ],
   "metadata": {
    "collapsed": false
   }
  },
  {
   "cell_type": "code",
   "execution_count": 4,
   "outputs": [
    {
     "data": {
      "text/plain": "[{'nbrhd_tuples': 113,\n  'nbrhd_confs': 3,\n  'iteration': 0,\n  'lb': 2.0,\n  'ub': 41,\n  'time': 12.848862648010254,\n  'iteration_time': 2.6163437366485596,\n  'events': [[2.4711530208587646, 'neighborhood_selected'],\n   [2.5150485038757324, 'local_cds_computed'],\n   [2.5905137062072754, 'model_built'],\n   [2.6123263835906982, 'model_optimized'],\n   [2.616330146789551, 'neighborhood_optimized'],\n   [2.6163432598114014, 'global_lb_iteration_finished']]},\n {'nbrhd_tuples': 252,\n  'nbrhd_confs': 1,\n  'iteration': 1,\n  'lb': 9,\n  'ub': 41,\n  'time': 15.293125629425049,\n  'iteration_time': 2.4442250728607178,\n  'events': [[2.4441885948181152, 'neighborhood_selected'],\n   [2.444201707839966, 'neighborhood_optimized'],\n   [2.4442243576049805, 'global_lb_iteration_finished']]},\n {'nbrhd_tuples': 324,\n  'nbrhd_confs': 2,\n  'iteration': 2,\n  'lb': 9,\n  'ub': 41,\n  'time': 17.905243158340454,\n  'iteration_time': 2.612081527709961,\n  'events': [[2.473889112472534, 'neighborhood_selected'],\n   [2.612058401107788, 'local_cds_computed'],\n   [2.6120662689208984, 'neighborhood_optimized'],\n   [2.6120810508728027, 'global_lb_iteration_finished']]},\n {'nbrhd_tuples': 476,\n  'nbrhd_confs': 4,\n  'iteration': 3,\n  'lb': 9,\n  'ub': 40,\n  'time': 22.398735523223877,\n  'iteration_time': 4.493467092514038,\n  'events': [[2.4238882064819336, 'neighborhood_selected'],\n   [4.131047010421753, 'local_cds_computed'],\n   [4.414131164550781, 'model_built'],\n   [4.48820161819458, 'model_optimized'],\n   [4.493446111679077, 'neighborhood_optimized'],\n   [4.49346661567688, 'global_lb_iteration_finished']]},\n {'nbrhd_tuples': 280,\n  'nbrhd_confs': 3,\n  'iteration': 4,\n  'lb': 9,\n  'ub': 39,\n  'time': 25.222185373306274,\n  'iteration_time': 2.823421001434326,\n  'events': [[2.444627523422241, 'neighborhood_selected'],\n   [2.6878466606140137, 'local_cds_computed'],\n   [2.7855563163757324, 'model_built'],\n   [2.819329261779785, 'model_optimized'],\n   [2.823395013809204, 'neighborhood_optimized'],\n   [2.823420524597168, 'global_lb_iteration_finished']]},\n {'nbrhd_tuples': 625,\n  'nbrhd_confs': 3,\n  'iteration': 5,\n  'lb': 13,\n  'ub': 39,\n  'time': 29.09538173675537,\n  'iteration_time': 3.8731679916381836,\n  'events': [[2.2683990001678467, 'neighborhood_selected'],\n   [3.8731420040130615, 'local_cds_computed'],\n   [3.8731489181518555, 'neighborhood_optimized'],\n   [3.8731675148010254, 'global_lb_iteration_finished']]},\n {'nbrhd_tuples': 591,\n  'nbrhd_confs': 3,\n  'iteration': 6,\n  'lb': 13,\n  'ub': 39,\n  'time': 35.0706729888916,\n  'iteration_time': 5.975266695022583,\n  'events': [[2.304361343383789, 'neighborhood_selected'],\n   [5.975243330001831, 'local_cds_computed'],\n   [5.975250482559204, 'neighborhood_optimized'],\n   [5.975265741348267, 'global_lb_iteration_finished']]},\n {'nbrhd_tuples': 925,\n  'nbrhd_confs': 4,\n  'iteration': 7,\n  'lb': 13,\n  'ub': 39,\n  'time': 42.59047079086304,\n  'iteration_time': 7.519774913787842,\n  'events': [[2.3140721321105957, 'neighborhood_selected'],\n   [7.519752740859985, 'local_cds_computed'],\n   [7.519759893417358, 'neighborhood_optimized'],\n   [7.519773960113525, 'global_lb_iteration_finished']]},\n {'nbrhd_tuples': 1035,\n  'nbrhd_confs': 5,\n  'iteration': 8,\n  'lb': 13,\n  'ub': 38,\n  'time': 57.59513306617737,\n  'iteration_time': 15.004638910293579,\n  'events': [[2.156780958175659, 'neighborhood_selected'],\n   [14.484395742416382, 'local_cds_computed'],\n   [14.79375958442688, 'model_built'],\n   [14.998154878616333, 'model_optimized'],\n   [15.004610776901245, 'neighborhood_optimized'],\n   [15.004638433456421, 'global_lb_iteration_finished']]},\n {'nbrhd_tuples': 1741,\n  'nbrhd_confs': 9,\n  'iteration': 9,\n  'lb': 13,\n  'ub': 35,\n  'time': 61.791643142700195,\n  'iteration_time': 4.196482181549072,\n  'events': [[1.923194169998169, 'neighborhood_selected'],\n   [2.1485211849212646, 'local_cds_computed'],\n   [3.1510825157165527, 'model_built'],\n   [4.187363624572754, 'model_optimized'],\n   [4.196460962295532, 'neighborhood_optimized'],\n   [4.196481466293335, 'global_lb_iteration_finished']]},\n {'nbrhd_tuples': 2045,\n  'nbrhd_confs': 10,\n  'iteration': 10,\n  'lb': 13,\n  'ub': 31,\n  'time': 66.41869688034058,\n  'iteration_time': 4.6270225048065186,\n  'events': [[1.5741536617279053, 'neighborhood_selected'],\n   [1.7947564125061035, 'local_cds_computed'],\n   [2.9486334323883057, 'model_built'],\n   [4.618077278137207, 'model_optimized'],\n   [4.62699818611145, 'neighborhood_optimized'],\n   [4.627021789550781, 'global_lb_iteration_finished']]},\n {'nbrhd_tuples': 1776,\n  'nbrhd_confs': 4,\n  'iteration': 11,\n  'lb': 13,\n  'ub': 31,\n  'time': 68.21994471549988,\n  'iteration_time': 1.801215648651123,\n  'events': [[1.6968820095062256, 'neighborhood_selected'],\n   [1.8011913299560547, 'local_cds_computed'],\n   [1.8012022972106934, 'neighborhood_optimized'],\n   [1.801215410232544, 'global_lb_iteration_finished']]},\n {'nbrhd_tuples': 2922,\n  'nbrhd_confs': 6,\n  'iteration': 12,\n  'lb': 13,\n  'ub': 31,\n  'time': 72.3398003578186,\n  'iteration_time': 4.1198296546936035,\n  'events': [[1.6843879222869873, 'neighborhood_selected'],\n   [2.1881892681121826, 'local_cds_computed'],\n   [3.197761058807373, 'model_built'],\n   [4.1114020347595215, 'model_optimized'],\n   [4.119806528091431, 'neighborhood_optimized'],\n   [4.119829177856445, 'global_lb_iteration_finished']]},\n {'nbrhd_tuples': 4343,\n  'nbrhd_confs': 7,\n  'iteration': 13,\n  'lb': 13,\n  'ub': 30,\n  'time': 78.97882437705994,\n  'iteration_time': 6.638988494873047,\n  'events': [[1.7350857257843018, 'neighborhood_selected'],\n   [1.8342890739440918, 'local_cds_computed'],\n   [3.376406669616699, 'model_built'],\n   [6.6292641162872314, 'model_optimized'],\n   [6.63896632194519, 'neighborhood_optimized'],\n   [6.638988018035889, 'global_lb_iteration_finished']]},\n {'nbrhd_tuples': 4120,\n  'nbrhd_confs': 10,\n  'iteration': 14,\n  'lb': 13,\n  'ub': 29,\n  'time': 93.039306640625,\n  'iteration_time': 14.060449123382568,\n  'events': [[1.4455032348632812, 'neighborhood_selected'],\n   [8.913673877716064, 'local_cds_computed'],\n   [10.97193169593811, 'model_built'],\n   [14.04724407196045, 'model_optimized'],\n   [14.060423851013184, 'neighborhood_optimized'],\n   [14.060448169708252, 'global_lb_iteration_finished']]},\n {'nbrhd_tuples': 6662,\n  'nbrhd_confs': 8,\n  'iteration': 15,\n  'lb': 13,\n  'ub': 28,\n  'time': 103.60352230072021,\n  'iteration_time': 10.56417989730835,\n  'events': [[1.5371592044830322, 'neighborhood_selected'],\n   [2.8047797679901123, 'local_cds_computed'],\n   [5.380861759185791, 'model_built'],\n   [10.55268907546997, 'model_optimized'],\n   [10.56415581703186, 'neighborhood_optimized'],\n   [10.564179420471191, 'global_lb_iteration_finished']]},\n {'nbrhd_tuples': 6657,\n  'nbrhd_confs': 8,\n  'iteration': 16,\n  'lb': 13,\n  'ub': 27,\n  'time': 113.82787680625916,\n  'iteration_time': 10.22431993484497,\n  'events': [[1.4074695110321045, 'neighborhood_selected'],\n   [2.706845760345459, 'local_cds_computed'],\n   [5.22783350944519, 'model_built'],\n   [10.21244502067566, 'model_optimized'],\n   [10.224295616149902, 'neighborhood_optimized'],\n   [10.224319458007812, 'global_lb_iteration_finished']]},\n {'nbrhd_tuples': 8689,\n  'nbrhd_confs': 10,\n  'iteration': 17,\n  'lb': 13,\n  'ub': 26,\n  'time': 131.34109783172607,\n  'iteration_time': 17.513184785842896,\n  'events': [[1.2119083404541016, 'neighborhood_selected'],\n   [4.237037658691406, 'local_cds_computed'],\n   [8.277987718582153, 'model_built'],\n   [17.498597621917725, 'model_optimized'],\n   [17.51315712928772, 'neighborhood_optimized'],\n   [17.51318335533142, 'global_lb_iteration_finished']]},\n {'nbrhd_tuples': 10736,\n  'nbrhd_confs': 9,\n  'iteration': 18,\n  'lb': 15,\n  'ub': 25,\n  'time': 155.1110680103302,\n  'iteration_time': 23.76993489265442,\n  'events': [[1.3027570247650146, 'neighborhood_selected'],\n   [9.51092267036438, 'local_cds_computed'],\n   [14.037015199661255, 'model_built'],\n   [23.755374908447266, 'model_optimized'],\n   [23.769904375076294, 'neighborhood_optimized'],\n   [23.76993441581726, 'global_lb_iteration_finished']]},\n {'nbrhd_tuples': 15163,\n  'nbrhd_confs': 10,\n  'iteration': 19,\n  'lb': 15,\n  'ub': 25,\n  'time': 165.87433695793152,\n  'iteration_time': 10.763231754302979,\n  'events': [[1.198861837387085, 'neighborhood_selected'],\n   [10.76320481300354, 'local_cds_computed'],\n   [10.763213634490967, 'neighborhood_optimized'],\n   [10.76323127746582, 'global_lb_iteration_finished']]},\n {'nbrhd_tuples': 20096,\n  'nbrhd_confs': 11,\n  'iteration': 20,\n  'lb': 16,\n  'ub': 24,\n  'time': 199.96259808540344,\n  'iteration_time': 34.088234663009644,\n  'events': [[1.0960016250610352, 'neighborhood_selected'],\n   [2.0031211376190186, 'local_cds_computed'],\n   [12.441840410232544, 'model_built'],\n   [34.06824803352356, 'model_optimized'],\n   [34.088202714920044, 'neighborhood_optimized'],\n   [34.088234186172485, 'global_lb_iteration_finished']]},\n {'nbrhd_tuples': 20901,\n  'nbrhd_confs': 11,\n  'iteration': 21,\n  'lb': 16,\n  'ub': 23,\n  'time': 235.42250037193298,\n  'iteration_time': 35.45986461639404,\n  'events': [[0.9214568138122559, 'neighborhood_selected'],\n   [2.87692928314209, 'local_cds_computed'],\n   [13.23611831665039, 'model_built'],\n   [35.43819975852966, 'model_optimized'],\n   [35.459832191467285, 'neighborhood_optimized'],\n   [35.45986270904541, 'global_lb_iteration_finished']]},\n {'nbrhd_tuples': 24751,\n  'nbrhd_confs': 10,\n  'iteration': 22,\n  'lb': 16,\n  'ub': 22,\n  'time': 280.91503286361694,\n  'iteration_time': 45.492488861083984,\n  'events': [[1.0326476097106934, 'neighborhood_selected'],\n   [7.5424277782440186, 'local_cds_computed'],\n   [19.336501598358154, 'model_built'],\n   [45.47107410430908, 'model_optimized'],\n   [45.49245285987854, 'neighborhood_optimized'],\n   [45.49248790740967, 'global_lb_iteration_finished']]},\n {'nbrhd_tuples': 30787,\n  'nbrhd_confs': 10,\n  'iteration': 23,\n  'lb': 17,\n  'ub': 21,\n  'time': 334.18034505844116,\n  'iteration_time': 53.2652702331543,\n  'events': [[0.9702215194702148, 'neighborhood_selected'],\n   [6.784884214401245, 'local_cds_computed'],\n   [21.103450298309326, 'model_built'],\n   [53.24175763130188, 'model_optimized'],\n   [53.26523470878601, 'neighborhood_optimized'],\n   [53.26526951789856, 'global_lb_iteration_finished']]},\n {'nbrhd_tuples': 41747,\n  'nbrhd_confs': 10,\n  'iteration': 24,\n  'lb': 17,\n  'ub': 21,\n  'time': 339.07310962677,\n  'iteration_time': 4.89272665977478,\n  'events': [[0.9175164699554443, 'neighborhood_selected'],\n   [4.892682075500488, 'local_cds_computed'],\n   [4.892701625823975, 'neighborhood_optimized'],\n   [4.892725944519043, 'global_lb_iteration_finished']]},\n {'nbrhd_tuples': 59942,\n  'nbrhd_confs': 11,\n  'iteration': 25,\n  'lb': 18,\n  'ub': 21,\n  'time': 398.3226637840271,\n  'iteration_time': 59.24952459335327,\n  'events': [[0.8703997135162354, 'neighborhood_selected'],\n   [6.068227052688599, 'local_cds_computed'],\n   [35.71702265739441, 'model_built'],\n   [59.22979402542114, 'model_optimized'],\n   [59.24948239326477, 'neighborhood_optimized'],\n   [59.24952411651611, 'global_lb_iteration_finished']]},\n {'nbrhd_tuples': 37507,\n  'nbrhd_confs': 10,\n  'iteration': 26,\n  'lb': 18,\n  'ub': 21,\n  'time': 402.3890118598938,\n  'iteration_time': 4.066302537918091,\n  'events': [[0.9140520095825195, 'neighborhood_selected'],\n   [4.066255807876587, 'local_cds_computed'],\n   [4.066275596618652, 'neighborhood_optimized'],\n   [4.0663018226623535, 'global_lb_iteration_finished']]},\n {'nbrhd_tuples': 61852,\n  'nbrhd_confs': 11,\n  'iteration': 27,\n  'lb': 18,\n  'ub': 21,\n  'time': 461.9724214076996,\n  'iteration_time': 59.58338022232056,\n  'events': [[0.8418407440185547, 'neighborhood_selected'],\n   [4.664524793624878, 'local_cds_computed'],\n   [35.550204277038574, 'model_built'],\n   [59.5603883266449, 'model_optimized'],\n   [59.583338499069214, 'neighborhood_optimized'],\n   [59.58337903022766, 'global_lb_iteration_finished']]},\n {'nbrhd_tuples': 39908,\n  'nbrhd_confs': 10,\n  'iteration': 28,\n  'lb': 18,\n  'ub': 21,\n  'time': 527.9328365325928,\n  'iteration_time': 65.96037411689758,\n  'events': [[0.926485538482666, 'neighborhood_selected'],\n   [8.275041580200195, 'local_cds_computed'],\n   [27.909851789474487, 'model_built'],\n   [65.94340968132019, 'model_optimized'],\n   [65.96033525466919, 'neighborhood_optimized'],\n   [65.96037292480469, 'global_lb_iteration_finished']]},\n {'nbrhd_tuples': 30082,\n  'nbrhd_confs': 9,\n  'iteration': 29,\n  'lb': 18,\n  'ub': 21,\n  'time': 569.3664190769196,\n  'iteration_time': 41.433542013168335,\n  'events': [[0.9505300521850586, 'neighborhood_selected'],\n   [1.1988515853881836, 'local_cds_computed'],\n   [14.84293794631958, 'model_built'],\n   [41.410924434661865, 'model_optimized'],\n   [41.433507204055786, 'neighborhood_optimized'],\n   [41.43354058265686, 'global_lb_iteration_finished']]},\n {'nbrhd_tuples': 39303,\n  'nbrhd_confs': 10,\n  'iteration': 30,\n  'lb': 18,\n  'ub': 21,\n  'time': 628.4598865509033,\n  'iteration_time': 59.093425989151,\n  'events': [[0.8940660953521729, 'neighborhood_selected'],\n   [4.410266399383545, 'local_cds_computed'],\n   [22.540385723114014, 'model_built'],\n   [59.06628775596619, 'model_optimized'],\n   [59.09339475631714, 'neighborhood_optimized'],\n   [59.09342408180237, 'global_lb_iteration_finished']]},\n {'nbrhd_tuples': 38978,\n  'nbrhd_confs': 10,\n  'iteration': 31,\n  'lb': 18,\n  'ub': 21,\n  'time': 689.8138966560364,\n  'iteration_time': 61.353968381881714,\n  'events': [[0.837501049041748, 'neighborhood_selected'],\n   [1.2509222030639648, 'local_cds_computed'],\n   [20.089016437530518, 'model_built'],\n   [61.325963258743286, 'model_optimized'],\n   [61.35393047332764, 'neighborhood_optimized'],\n   [61.35396695137024, 'global_lb_iteration_finished']]},\n {'nbrhd_tuples': 60736,\n  'nbrhd_confs': 11,\n  'iteration': 32,\n  'lb': 18,\n  'ub': 21,\n  'time': 696.6456000804901,\n  'iteration_time': 6.831663370132446,\n  'events': [[0.8444793224334717, 'neighborhood_selected'],\n   [6.831609010696411, 'local_cds_computed'],\n   [6.831631898880005, 'neighborhood_optimized'],\n   [6.831662893295288, 'global_lb_iteration_finished']]},\n {'nbrhd_tuples': 75232,\n  'nbrhd_confs': 12,\n  'iteration': 33,\n  'lb': 18,\n  'ub': 21,\n  'time': 766.7089059352875,\n  'iteration_time': 70.06327247619629,\n  'events': [[0.7674448490142822, 'neighborhood_selected'],\n   [7.807121992111206, 'local_cds_computed'],\n   [48.51488995552063, 'model_built'],\n   [70.03671836853027, 'model_optimized'],\n   [70.06323051452637, 'neighborhood_optimized'],\n   [70.06327033042908, 'global_lb_iteration_finished']]},\n {'nbrhd_tuples': 63820,\n  'nbrhd_confs': 11,\n  'iteration': 34,\n  'lb': 18,\n  'ub': 21,\n  'time': 828.6416783332825,\n  'iteration_time': 61.93272590637207,\n  'events': [[0.842501163482666, 'neighborhood_selected'],\n   [3.6617002487182617, 'local_cds_computed'],\n   [34.1563560962677, 'model_built'],\n   [61.91024422645569, 'model_optimized'],\n   [61.93268322944641, 'neighborhood_optimized'],\n   [61.932724714279175, 'global_lb_iteration_finished']]},\n {'nbrhd_tuples': 43202,\n  'nbrhd_confs': 10,\n  'iteration': 35,\n  'lb': 18,\n  'ub': 21,\n  'time': 893.470451593399,\n  'iteration_time': 64.82873010635376,\n  'events': [[0.922534704208374, 'neighborhood_selected'],\n   [7.992892742156982, 'local_cds_computed'],\n   [28.657390594482422, 'model_built'],\n   [64.81220865249634, 'model_optimized'],\n   [64.828688621521, 'neighborhood_optimized'],\n   [64.82872891426086, 'global_lb_iteration_finished']]},\n {'nbrhd_tuples': 30031,\n  'nbrhd_confs': 9,\n  'iteration': 36,\n  'lb': 18,\n  'ub': 21,\n  'time': 911.0701506137848,\n  'iteration_time': 17.599658489227295,\n  'events': [[0.9623684883117676, 'neighborhood_selected'],\n   [17.59958004951477, 'local_cds_computed'],\n   [17.599631547927856, 'neighborhood_optimized'],\n   [17.599658012390137, 'global_lb_iteration_finished']]}]"
     },
     "execution_count": 4,
     "metadata": {},
     "output_type": "execute_result"
    }
   ],
   "source": [
    "data[\"iteration_info\"].iloc[30]"
   ],
   "metadata": {
    "collapsed": false
   }
  },
  {
   "cell_type": "code",
   "execution_count": 4,
   "outputs": [],
   "source": [],
   "metadata": {
    "collapsed": false
   }
  }
 ],
 "metadata": {
  "kernelspec": {
   "display_name": "Python 3",
   "language": "python",
   "name": "python3"
  },
  "language_info": {
   "codemirror_mode": {
    "name": "ipython",
    "version": 2
   },
   "file_extension": ".py",
   "mimetype": "text/x-python",
   "name": "python",
   "nbconvert_exporter": "python",
   "pygments_lexer": "ipython2",
   "version": "2.7.6"
  }
 },
 "nbformat": 4,
 "nbformat_minor": 0
}
