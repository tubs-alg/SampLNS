{
 "cells": [
  {
   "cell_type": "code",
   "execution_count": 1,
   "metadata": {},
   "outputs": [
    {
     "name": "stdout",
     "output_type": "stream",
     "text": [
      "An entry in the database can look like this:\n",
      "_____________________________________________\n",
      " result:\n",
      "| solution: [{'Imagencorporativa': True, 'Liberalosrecursosgerencialesdelacompaniaparaque...\n",
      "| lower_bound: 16\n",
      "| upper_bound: 16\n",
      "| optimal: True\n",
      "| iteration_info: [{'nbrhd_tuples': 167, 'nbrhd_confs': 4, 'iteration': 0, 'lb': 9, 'ub': 26, '...\n",
      " timestamp: 2023-08-24T06:46:41.417740\n",
      " runtime: 654.7319896221161\n",
      " stdout: [[0.0032439231872558594, 'Parsing FeatureIDE\\n']]\n",
      " stderr: []\n",
      " logging: [{'name': 'SampLNS', 'msg': 'Making mandatory elements of OR non-mandatory.',...\n",
      " env_fingerprint: aff7cf9c437589ce81a4670779a1f06111ad5f8f\n",
      " args_fingerprint: f8e43cf7f898bed564f6e3d7dbf330424a28497c\n",
      " parameters:\n",
      "| func: run_samplns\n",
      "| args:\n",
      "|| instance_name: DMIE\n",
      "|| initial_sample_path: 2023-03-01_13-51-03/30_1_7_5_sample.csv\n",
      "|| instance_archive: ../benchmark_models.zip\n",
      "|| input_sample_archive: ../00_baseline/EXTERNAL_INPUT/900_seconds_5_it.zip\n",
      "|| iterations: 10000\n",
      "|| iteration_time_limit: 60.0\n",
      "|| time_limit: 900\n",
      "|| verify: True\n",
      "|| fast_verify: True\n",
      "|| cds_iteration_time_limit: 60.0\n",
      " argv: ['/ibr/home/krupke/anaconda3/envs/mo310/lib/python3.10/site-packages/slurmina...\n",
      " env:\n",
      "| hostname: algry02\n",
      "| python_version: 3.10.8 (main, Nov 24 2022, 14:13:03) [GCC 11.2.0]\n",
      "| python: /ibr/home/krupke/anaconda3/envs/mo310/bin/python3\n",
      "| cwd: /misc/ibr/home/krupke/SampLNS/evaluation/05_initial_sample_comparison\n",
      "| environment: [{'name': 'certifi', 'path': '/misc/ibr/home/krupke/anaconda3/envs/mo310/lib/...\n",
      "| git_revision: 46063b2779add1816fe5ba0fb6a4a0be3b736410\n",
      "| python_file: /ibr/home/krupke/anaconda3/envs/mo310/lib/python3.10/site-packages/slurminade...\n",
      "______________________________________________\n",
      "Note that this is only based on the first entry, other entries could differ.\n"
     ]
    }
   ],
   "source": [
    "from _conf import (\n",
    "    RESULT_FOLDER,\n",
    ")\n",
    "from algbench import describe\n",
    "\n",
    "describe(RESULT_FOLDER)"
   ]
  },
  {
   "cell_type": "code",
   "execution_count": null,
   "metadata": {},
   "outputs": [],
   "source": []
  },
  {
   "cell_type": "code",
   "execution_count": null,
   "metadata": {},
   "outputs": [],
   "source": []
  }
 ],
 "metadata": {
  "kernelspec": {
   "display_name": "mo310",
   "language": "python",
   "name": "python3"
  },
  "language_info": {
   "codemirror_mode": {
    "name": "ipython",
    "version": 3
   },
   "file_extension": ".py",
   "mimetype": "text/x-python",
   "name": "python",
   "nbconvert_exporter": "python",
   "pygments_lexer": "ipython3",
   "version": "3.10.12"
  },
  "orig_nbformat": 4
 },
 "nbformat": 4,
 "nbformat_minor": 2
}
