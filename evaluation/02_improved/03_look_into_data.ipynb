{
 "cells": [
  {
   "cell_type": "code",
   "execution_count": 1,
   "metadata": {},
   "outputs": [
    {
     "name": "stdout",
     "output_type": "stream",
     "text": [
      "An entry in the database can look like this:\n",
      "_____________________________________________\n",
      " result:\n",
      "| solution: [{'__SELECTED_FEATURE_mutant_4': True, '__SELECTED_FEATURE_mutant_1': True, '...\n",
      "| lower_bound: 5.0\n",
      "| upper_bound: 5\n",
      "| optimal: True\n",
      "| iteration_info: [{'nbrhd_tuples': 38, 'nbrhd_confs': 9, 'iteration': 0, 'lb': 5.0, 'ub': 5, '...\n",
      " timestamp: 2023-07-05T17:59:43.940425\n",
      " runtime: 0.05339217185974121\n",
      " stdout: []\n",
      " stderr: []\n",
      " logging: []\n",
      " env_fingerprint: d742240f195cf16e77a111c04cf66c5ddafcba8e\n",
      " args_fingerprint: bac1b2dda9f2dcca798524b6fa44dc77d109c833\n",
      " parameters:\n",
      "| func: run_samplns\n",
      "| args:\n",
      "|| instance_name: calculate\n",
      "|| initial_sample_path: 2023-03-01_13-51-03/1_1_0_1_sample.csv\n",
      "|| instance_archive: ../01_ICSE_2024_0//00_benchmark_instances.zip\n",
      "|| input_sample_archive: ../01_ICSE_2024_0/00_baseline/900_seconds_5_it.zip\n",
      "|| iterations: 10000\n",
      "|| iteration_time_limit: 60.0\n",
      "|| time_limit: 900\n",
      " argv: ['01_run_samplns.py']\n",
      " env:\n",
      "| hostname: workstation-r7\n",
      "| python_version: 3.10.9 (main, Jan 11 2023, 15:21:40) [GCC 11.2.0]\n",
      "| python: /home/krupke/anaconda3/envs/mo310/bin/python3\n",
      "| cwd: /home/krupke/Repositories/SampLNS/evaluation/02_improved\n",
      "| environment: [{'name': 'virtualenv', 'path': '/home/krupke/.local/lib/python3.10/site-pack...\n",
      "| git_revision: 9739395939f89ebc5c7045b0252ff2ca88c36e7d\n",
      "| python_file: /home/krupke/Repositories/SampLNS/evaluation/02_improved/01_run_samplns.py\n",
      "______________________________________________\n",
      "Note that this is only based on the first entry, other entries could differ.\n"
     ]
    }
   ],
   "source": [
    "INPUT_SAMPLE_ARCHIVE = \"./00_baseline/900_seconds_5_it.zip\"\n",
    "INSTANCE_ARCHIVE = \"./00_benchmark_instances.zip\"\n",
    "RESULT_FOLDER = \"./01_results/900_seconds_5_it_900/\"\n",
    "\n",
    "from algbench import describe\n",
    "\n",
    "describe(RESULT_FOLDER)"
   ]
  }
 ],
 "metadata": {
  "kernelspec": {
   "display_name": "mo310",
   "language": "python",
   "name": "python3"
  },
  "language_info": {
   "codemirror_mode": {
    "name": "ipython",
    "version": 3
   },
   "file_extension": ".py",
   "mimetype": "text/x-python",
   "name": "python",
   "nbconvert_exporter": "python",
   "pygments_lexer": "ipython3",
   "version": "3.10.9"
  },
  "orig_nbformat": 4
 },
 "nbformat": 4,
 "nbformat_minor": 2
}
