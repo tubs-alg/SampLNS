{
 "cells": [
  {
   "cell_type": "code",
   "execution_count": 1,
   "metadata": {},
   "outputs": [
    {
     "name": "stdout",
     "output_type": "stream",
     "text": [
      "An entry in the database can look like this:\n",
      "_____________________________________________\n",
      " result:\n",
      "| solution: [{'Decrypt': False, 'Encrypt': False, 'Sign': False, 'Verify': False, 'Base':...\n",
      "| lower_bound: 6.0\n",
      "| upper_bound: 6\n",
      "| optimal: True\n",
      "| iteration_info: [{'nbrhd_tuples': 70, 'nbrhd_confs': 8, 'iteration': 0, 'lb': 6.0, 'ub': 6, '...\n",
      " timestamp: 2023-07-06T10:10:54.439076\n",
      " runtime: 0.1571521759033203\n",
      " stdout: []\n",
      " stderr: []\n",
      " logging: [{'name': 'SampLNS', 'msg': \"Parsed instance '%s' with %d features and %d rul...\n",
      " env_fingerprint: 4fbb8c4968f0baa9df58f85f23f1e26aa93ffd4d\n",
      " args_fingerprint: e7b04f3654165117eec0c6b7f283791b39a265cd\n",
      " parameters:\n",
      "| func: run_samplns\n",
      "| args:\n",
      "|| instance_name: email\n",
      "|| initial_sample_path: 2023-03-01_13-51-03/3_1_3_5_sample.csv\n",
      "|| instance_archive: ../01_ICSE_2024_0//00_benchmark_instances.zip\n",
      "|| input_sample_archive: ../01_ICSE_2024_0/00_baseline/900_seconds_5_it.zip\n",
      "|| iterations: 10000\n",
      "|| iteration_time_limit: 60.0\n",
      "|| time_limit: 900\n",
      " argv: ['/ibr/home/krupke/anaconda3/envs/mo310/lib/python3.10/site-packages/slurmina...\n",
      " env:\n",
      "| hostname: algry03\n",
      "| python_version: 3.10.8 (main, Nov 24 2022, 14:13:03) [GCC 11.2.0]\n",
      "| python: /ibr/home/krupke/anaconda3/envs/mo310/bin/python3\n",
      "| cwd: /misc/ibr/home/krupke/SampLNS/evaluation/02_improved\n",
      "| environment: [{'name': 'certifi', 'path': '/misc/ibr/home/krupke/anaconda3/envs/mo310/lib/...\n",
      "| git_revision: 50a7b76620cd8da747f4c08ae2c92d29a9847ac6\n",
      "| python_file: /ibr/home/krupke/anaconda3/envs/mo310/lib/python3.10/site-packages/slurminade...\n",
      "______________________________________________\n",
      "Note that this is only based on the first entry, other entries could differ.\n"
     ]
    }
   ],
   "source": [
    "INPUT_SAMPLE_ARCHIVE = \"./00_baseline/900_seconds_5_it.zip\"\n",
    "INSTANCE_ARCHIVE = \"./00_benchmark_instances.zip\"\n",
    "RESULT_FOLDER = \"./01_results/900_seconds_5_it_900/\"\n",
    "\n",
    "from algbench import describe\n",
    "\n",
    "describe(RESULT_FOLDER)"
   ]
  }
 ],
 "metadata": {
  "kernelspec": {
   "display_name": "mo310",
   "language": "python",
   "name": "python3"
  },
  "language_info": {
   "codemirror_mode": {
    "name": "ipython",
    "version": 3
   },
   "file_extension": ".py",
   "mimetype": "text/x-python",
   "name": "python",
   "nbconvert_exporter": "python",
   "pygments_lexer": "ipython3",
   "version": "3.10.9"
  },
  "orig_nbformat": 4
 },
 "nbformat": 4,
 "nbformat_minor": 2
}
