{
 "cells": [
  {
   "cell_type": "code",
   "execution_count": 1,
   "metadata": {},
   "outputs": [
    {
     "name": "stdout",
     "output_type": "stream",
     "text": [
      "An entry in the database can look like this:\n",
      "_____________________________________________\n",
      " result:\n",
      "| samplns_used: True\n",
      "| time_used_by_yasa: 0.202\n",
      "| timelimit_for_samplns: 3599.798\n",
      "| solution: [{'CONFIG_CONFIG_TOYSH_PIPES': False, 'CONFIG_CONFIG_TOYSH_JOBCTL': True, 'CO...\n",
      "| lower_bound: 8\n",
      "| upper_bound: 8\n",
      "| optimal: True\n",
      "| iteration_info: [{'nbrhd_tuples': 232, 'nbrhd_confs': 8, 'iteration': 0, 'lb': 7.0, 'ub': 9, ...\n",
      " timestamp: 2023-08-12T13:43:30.401234\n",
      " runtime: 10.786948204040527\n",
      " stdout: [[0.00435948371887207, 'Parsing DIMACS\\n']]\n",
      " stderr: []\n",
      " logging: [{'name': 'SampLNS', 'msg': \"Parsed instance '%s' with %d features and %d rul...\n",
      " env_fingerprint: 08b6c4ad7c656b20299a49a70d723f2da77c5e73\n",
      " args_fingerprint: 20f583f5a88c22cb73da363e6c95ff40ff3145d5\n",
      " parameters:\n",
      "| func: run_samplns\n",
      "| args:\n",
      "|| instance_name: toybox_2006-10-31_23-30-06\n",
      "|| initial_sample_path: 2023-03-01_13-51-03/5_1_7_1_sample.csv\n",
      "|| instance_archive: ../benchmark_models.zip\n",
      "|| input_sample_archive: ../01_ICSE_2024_0/00_baseline/900_seconds_5_it.zip\n",
      "|| iterations: 10000\n",
      "|| iteration_time_limit: 60.0\n",
      "|| time_limit: 3600\n",
      "|| verify: True\n",
      "|| fast_verify: True\n",
      " argv: ['/ibr/home/krupke/anaconda3/envs/mo310/lib/python3.10/site-packages/slurmina...\n",
      " env:\n",
      "| hostname: algry03\n",
      "| python_version: 3.10.8 (main, Nov 24 2022, 14:13:03) [GCC 11.2.0]\n",
      "| python: /ibr/home/krupke/anaconda3/envs/mo310/bin/python3\n",
      "| cwd: /misc/ibr/home/krupke/SampLNS/evaluation/07_long_optimization\n",
      "| environment: [{'name': 'certifi', 'path': '/misc/ibr/home/krupke/anaconda3/envs/mo310/lib/...\n",
      "| git_revision: 6cf115895ab7dbbc3a3220a77fc9bb94d37d6185\n",
      "| python_file: /ibr/home/krupke/anaconda3/envs/mo310/lib/python3.10/site-packages/slurminade...\n",
      "______________________________________________\n",
      "Note that this is only based on the first entry, other entries could differ.\n"
     ]
    }
   ],
   "source": [
    "from _conf import (\n",
    "    ITERATIONS,\n",
    "    ITERATION_TIME_LIMIT,\n",
    "    TIME_LIMIT,\n",
    "    BASE,\n",
    "    RESULT_FOLDER,\n",
    "    INPUT_SAMPLE_ARCHIVE,\n",
    "    INSTANCE_ARCHIVE,\n",
    ")\n",
    "\n",
    "\n",
    "from algbench import describe\n",
    "\n",
    "describe(RESULT_FOLDER)"
   ]
  },
  {
   "cell_type": "code",
   "execution_count": null,
   "metadata": {},
   "outputs": [],
   "source": []
  },
  {
   "cell_type": "code",
   "execution_count": null,
   "metadata": {},
   "outputs": [],
   "source": []
  }
 ],
 "metadata": {
  "kernelspec": {
   "display_name": "mo310",
   "language": "python",
   "name": "python3"
  },
  "language_info": {
   "codemirror_mode": {
    "name": "ipython",
    "version": 3
   },
   "file_extension": ".py",
   "mimetype": "text/x-python",
   "name": "python",
   "nbconvert_exporter": "python",
   "pygments_lexer": "ipython3",
   "version": "3.10.12"
  },
  "orig_nbformat": 4
 },
 "nbformat": 4,
 "nbformat_minor": 2
}
