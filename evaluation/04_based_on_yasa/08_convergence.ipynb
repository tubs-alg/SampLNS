{
 "cells": [
  {
   "cell_type": "markdown",
   "metadata": {},
   "source": [
    "# Convergence of upper and lower bound over time\n",
    "\n",
    "Note that the events in the plot are only based on the upper bound iterations."
   ]
  },
  {
   "cell_type": "code",
   "execution_count": 38,
   "metadata": {
    "collapsed": false
   },
   "outputs": [
    {
     "data": {
      "text/html": [
       "<div>\n",
       "<style scoped>\n",
       "    .dataframe tbody tr th:only-of-type {\n",
       "        vertical-align: middle;\n",
       "    }\n",
       "\n",
       "    .dataframe tbody tr th {\n",
       "        vertical-align: top;\n",
       "    }\n",
       "\n",
       "    .dataframe thead th {\n",
       "        text-align: right;\n",
       "    }\n",
       "</style>\n",
       "<table border=\"1\" class=\"dataframe\">\n",
       "  <thead>\n",
       "    <tr style=\"text-align: right;\">\n",
       "      <th></th>\n",
       "      <th>instance</th>\n",
       "      <th>#Variables</th>\n",
       "      <th>#Clauses</th>\n",
       "      <th>iteration_info</th>\n",
       "      <th>baseline_alg</th>\n",
       "      <th>initial_sample_path</th>\n",
       "      <th>initial_sample_size</th>\n",
       "      <th>lower_bound</th>\n",
       "      <th>optimized_sample_size</th>\n",
       "      <th>time_used_by_yasa</th>\n",
       "      <th>timelimit_for_samplns</th>\n",
       "      <th>samplns_used</th>\n",
       "    </tr>\n",
       "  </thead>\n",
       "  <tbody>\n",
       "    <tr>\n",
       "      <th>0</th>\n",
       "      <td>busybox_2020-12-16_21-53-05</td>\n",
       "      <td>1050</td>\n",
       "      <td>996</td>\n",
       "      <td>[{'nbrhd_tuples': 222, 'nbrhd_confs': 4, 'iter...</td>\n",
       "      <td>YASA(m=1)</td>\n",
       "      <td>2023-03-01_13-51-03/38_1_7_5_sample.csv</td>\n",
       "      <td>39</td>\n",
       "      <td>18</td>\n",
       "      <td>23</td>\n",
       "      <td>2.278</td>\n",
       "      <td>897.722</td>\n",
       "      <td>True</td>\n",
       "    </tr>\n",
       "    <tr>\n",
       "      <th>1</th>\n",
       "      <td>email</td>\n",
       "      <td>10</td>\n",
       "      <td>17</td>\n",
       "      <td>[{'nbrhd_tuples': 70, 'nbrhd_confs': 7, 'itera...</td>\n",
       "      <td>YASA(m=1)</td>\n",
       "      <td>2023-03-01_13-51-03/3_1_7_5_sample.csv</td>\n",
       "      <td>7</td>\n",
       "      <td>6</td>\n",
       "      <td>6</td>\n",
       "      <td>0.199</td>\n",
       "      <td>899.801</td>\n",
       "      <td>True</td>\n",
       "    </tr>\n",
       "    <tr>\n",
       "      <th>2</th>\n",
       "      <td>WaterlooGenerated</td>\n",
       "      <td>580</td>\n",
       "      <td>879</td>\n",
       "      <td>[{'nbrhd_tuples': 248, 'nbrhd_confs': 36, 'ite...</td>\n",
       "      <td>YASA(m=1)</td>\n",
       "      <td>2023-03-01_13-51-03/34_1_7_1_sample.csv</td>\n",
       "      <td>149</td>\n",
       "      <td>82</td>\n",
       "      <td>82</td>\n",
       "      <td>1.438</td>\n",
       "      <td>898.562</td>\n",
       "      <td>True</td>\n",
       "    </tr>\n",
       "    <tr>\n",
       "      <th>3</th>\n",
       "      <td>FeatureIDE</td>\n",
       "      <td>19</td>\n",
       "      <td>27</td>\n",
       "      <td>[{'nbrhd_tuples': 214, 'nbrhd_confs': 8, 'iter...</td>\n",
       "      <td>YASA(m=1)</td>\n",
       "      <td>2023-03-01_13-51-03/7_1_7_5_sample.csv</td>\n",
       "      <td>12</td>\n",
       "      <td>7</td>\n",
       "      <td>8</td>\n",
       "      <td>0.207</td>\n",
       "      <td>899.793</td>\n",
       "      <td>True</td>\n",
       "    </tr>\n",
       "    <tr>\n",
       "      <th>4</th>\n",
       "      <td>FeatureIDE</td>\n",
       "      <td>19</td>\n",
       "      <td>27</td>\n",
       "      <td>[{'nbrhd_tuples': 215, 'nbrhd_confs': 9, 'iter...</td>\n",
       "      <td>YASA(m=1)</td>\n",
       "      <td>2023-03-01_13-51-03/7_1_7_4_sample.csv</td>\n",
       "      <td>12</td>\n",
       "      <td>7</td>\n",
       "      <td>8</td>\n",
       "      <td>0.208</td>\n",
       "      <td>899.792</td>\n",
       "      <td>True</td>\n",
       "    </tr>\n",
       "    <tr>\n",
       "      <th>...</th>\n",
       "      <td>...</td>\n",
       "      <td>...</td>\n",
       "      <td>...</td>\n",
       "      <td>...</td>\n",
       "      <td>...</td>\n",
       "      <td>...</td>\n",
       "      <td>...</td>\n",
       "      <td>...</td>\n",
       "      <td>...</td>\n",
       "      <td>...</td>\n",
       "      <td>...</td>\n",
       "      <td>...</td>\n",
       "    </tr>\n",
       "    <tr>\n",
       "      <th>225</th>\n",
       "      <td>Violet</td>\n",
       "      <td>101</td>\n",
       "      <td>203</td>\n",
       "      <td>[{'nbrhd_tuples': 178, 'nbrhd_confs': 7, 'iter...</td>\n",
       "      <td>YASA(m=1)</td>\n",
       "      <td>2023-03-01_13-51-03/19_1_7_1_sample.csv</td>\n",
       "      <td>27</td>\n",
       "      <td>14</td>\n",
       "      <td>17</td>\n",
       "      <td>0.288</td>\n",
       "      <td>899.712</td>\n",
       "      <td>True</td>\n",
       "    </tr>\n",
       "    <tr>\n",
       "      <th>226</th>\n",
       "      <td>DMIE</td>\n",
       "      <td>366</td>\n",
       "      <td>627</td>\n",
       "      <td>[{'nbrhd_tuples': 241, 'nbrhd_confs': 5, 'iter...</td>\n",
       "      <td>YASA(m=1)</td>\n",
       "      <td>2023-03-01_13-51-03/30_1_7_5_sample.csv</td>\n",
       "      <td>27</td>\n",
       "      <td>14</td>\n",
       "      <td>17</td>\n",
       "      <td>0.597</td>\n",
       "      <td>899.403</td>\n",
       "      <td>True</td>\n",
       "    </tr>\n",
       "    <tr>\n",
       "      <th>227</th>\n",
       "      <td>fiasco_2020-12-01_14-09-14</td>\n",
       "      <td>258</td>\n",
       "      <td>1542</td>\n",
       "      <td>[{'nbrhd_tuples': 236, 'nbrhd_confs': 19, 'ite...</td>\n",
       "      <td>YASA(m=1)</td>\n",
       "      <td>2023-03-01_13-51-03/25_1_7_3_sample.csv</td>\n",
       "      <td>224</td>\n",
       "      <td>196</td>\n",
       "      <td>196</td>\n",
       "      <td>1.152</td>\n",
       "      <td>898.848</td>\n",
       "      <td>True</td>\n",
       "    </tr>\n",
       "    <tr>\n",
       "      <th>228</th>\n",
       "      <td>SortingLine</td>\n",
       "      <td>39</td>\n",
       "      <td>77</td>\n",
       "      <td>[{'nbrhd_tuples': 206, 'nbrhd_confs': 12, 'ite...</td>\n",
       "      <td>YASA(m=1)</td>\n",
       "      <td>2023-03-01_13-51-03/14_1_7_3_sample.csv</td>\n",
       "      <td>17</td>\n",
       "      <td>9</td>\n",
       "      <td>9</td>\n",
       "      <td>0.202</td>\n",
       "      <td>899.798</td>\n",
       "      <td>True</td>\n",
       "    </tr>\n",
       "    <tr>\n",
       "      <th>229</th>\n",
       "      <td>PPU</td>\n",
       "      <td>52</td>\n",
       "      <td>109</td>\n",
       "      <td>[{'nbrhd_tuples': 234, 'nbrhd_confs': 10, 'ite...</td>\n",
       "      <td>YASA(m=1)</td>\n",
       "      <td>2023-03-01_13-51-03/16_1_7_1_sample.csv</td>\n",
       "      <td>16</td>\n",
       "      <td>12</td>\n",
       "      <td>12</td>\n",
       "      <td>0.220</td>\n",
       "      <td>899.780</td>\n",
       "      <td>True</td>\n",
       "    </tr>\n",
       "  </tbody>\n",
       "</table>\n",
       "<p>230 rows × 12 columns</p>\n",
       "</div>"
      ],
      "text/plain": [
       "                        instance  #Variables  #Clauses  \\\n",
       "0    busybox_2020-12-16_21-53-05        1050       996   \n",
       "1                          email          10        17   \n",
       "2              WaterlooGenerated         580       879   \n",
       "3                     FeatureIDE          19        27   \n",
       "4                     FeatureIDE          19        27   \n",
       "..                           ...         ...       ...   \n",
       "225                       Violet         101       203   \n",
       "226                         DMIE         366       627   \n",
       "227   fiasco_2020-12-01_14-09-14         258      1542   \n",
       "228                  SortingLine          39        77   \n",
       "229                          PPU          52       109   \n",
       "\n",
       "                                        iteration_info baseline_alg  \\\n",
       "0    [{'nbrhd_tuples': 222, 'nbrhd_confs': 4, 'iter...    YASA(m=1)   \n",
       "1    [{'nbrhd_tuples': 70, 'nbrhd_confs': 7, 'itera...    YASA(m=1)   \n",
       "2    [{'nbrhd_tuples': 248, 'nbrhd_confs': 36, 'ite...    YASA(m=1)   \n",
       "3    [{'nbrhd_tuples': 214, 'nbrhd_confs': 8, 'iter...    YASA(m=1)   \n",
       "4    [{'nbrhd_tuples': 215, 'nbrhd_confs': 9, 'iter...    YASA(m=1)   \n",
       "..                                                 ...          ...   \n",
       "225  [{'nbrhd_tuples': 178, 'nbrhd_confs': 7, 'iter...    YASA(m=1)   \n",
       "226  [{'nbrhd_tuples': 241, 'nbrhd_confs': 5, 'iter...    YASA(m=1)   \n",
       "227  [{'nbrhd_tuples': 236, 'nbrhd_confs': 19, 'ite...    YASA(m=1)   \n",
       "228  [{'nbrhd_tuples': 206, 'nbrhd_confs': 12, 'ite...    YASA(m=1)   \n",
       "229  [{'nbrhd_tuples': 234, 'nbrhd_confs': 10, 'ite...    YASA(m=1)   \n",
       "\n",
       "                         initial_sample_path  initial_sample_size  \\\n",
       "0    2023-03-01_13-51-03/38_1_7_5_sample.csv                   39   \n",
       "1     2023-03-01_13-51-03/3_1_7_5_sample.csv                    7   \n",
       "2    2023-03-01_13-51-03/34_1_7_1_sample.csv                  149   \n",
       "3     2023-03-01_13-51-03/7_1_7_5_sample.csv                   12   \n",
       "4     2023-03-01_13-51-03/7_1_7_4_sample.csv                   12   \n",
       "..                                       ...                  ...   \n",
       "225  2023-03-01_13-51-03/19_1_7_1_sample.csv                   27   \n",
       "226  2023-03-01_13-51-03/30_1_7_5_sample.csv                   27   \n",
       "227  2023-03-01_13-51-03/25_1_7_3_sample.csv                  224   \n",
       "228  2023-03-01_13-51-03/14_1_7_3_sample.csv                   17   \n",
       "229  2023-03-01_13-51-03/16_1_7_1_sample.csv                   16   \n",
       "\n",
       "     lower_bound  optimized_sample_size  time_used_by_yasa  \\\n",
       "0             18                     23              2.278   \n",
       "1              6                      6              0.199   \n",
       "2             82                     82              1.438   \n",
       "3              7                      8              0.207   \n",
       "4              7                      8              0.208   \n",
       "..           ...                    ...                ...   \n",
       "225           14                     17              0.288   \n",
       "226           14                     17              0.597   \n",
       "227          196                    196              1.152   \n",
       "228            9                      9              0.202   \n",
       "229           12                     12              0.220   \n",
       "\n",
       "     timelimit_for_samplns  samplns_used  \n",
       "0                  897.722          True  \n",
       "1                  899.801          True  \n",
       "2                  898.562          True  \n",
       "3                  899.793          True  \n",
       "4                  899.792          True  \n",
       "..                     ...           ...  \n",
       "225                899.712          True  \n",
       "226                899.403          True  \n",
       "227                898.848          True  \n",
       "228                899.798          True  \n",
       "229                899.780          True  \n",
       "\n",
       "[230 rows x 12 columns]"
      ]
     },
     "execution_count": 38,
     "metadata": {},
     "output_type": "execute_result"
    }
   ],
   "source": [
    "import pandas as pd\n",
    "\n",
    "data = pd.read_json(\"./05_clean_data.json.zip\")\n",
    "# data = data.drop_duplicates(subset=[\"instance\"])\n",
    "data"
   ]
  },
  {
   "cell_type": "markdown",
   "metadata": {
    "collapsed": false
   },
   "source": [
    "## Extend the data by some additional information on the best values"
   ]
  },
  {
   "cell_type": "code",
   "execution_count": 27,
   "metadata": {
    "collapsed": false
   },
   "outputs": [],
   "source": [
    "# Find the best values for each instance as reference.\n",
    "best_solutions = (\n",
    "    data[[\"instance\", \"initial_sample_size\", \"optimized_sample_size\"]]\n",
    "    .groupby(\"instance\")\n",
    "    .min()\n",
    "    .reset_index()\n",
    "    .rename(\n",
    "        columns={\n",
    "            \"initial_sample_size\": \"best_baseline\",\n",
    "            \"optimized_sample_size\": \"best_lns_ub\",\n",
    "        }\n",
    "    )\n",
    ")\n",
    "best_lb = (\n",
    "    data[[\"instance\", \"lower_bound\"]]\n",
    "    .groupby(\"instance\")\n",
    "    .max()\n",
    "    .reset_index()\n",
    "    .rename(columns={\"lower_bound\": \"best_lb\"})\n",
    ")\n",
    "best_values = best_solutions.merge(best_lb, left_on=\"instance\", right_on=\"instance\")\n",
    "# add them to the data as reference\n",
    "data = data.merge(best_values, left_on=\"instance\", right_on=\"instance\")\n",
    "data = data[data[\"baseline_alg\"] == \"FIDE-YASA(m=1)\"]"
   ]
  },
  {
   "cell_type": "markdown",
   "metadata": {
    "collapsed": false
   },
   "source": [
    "## A look onto the data never hurts"
   ]
  },
  {
   "cell_type": "code",
   "execution_count": 28,
   "metadata": {
    "collapsed": false
   },
   "outputs": [
    {
     "data": {
      "text/html": [
       "<div>\n",
       "<style scoped>\n",
       "    .dataframe tbody tr th:only-of-type {\n",
       "        vertical-align: middle;\n",
       "    }\n",
       "\n",
       "    .dataframe tbody tr th {\n",
       "        vertical-align: top;\n",
       "    }\n",
       "\n",
       "    .dataframe thead th {\n",
       "        text-align: right;\n",
       "    }\n",
       "</style>\n",
       "<table border=\"1\" class=\"dataframe\">\n",
       "  <thead>\n",
       "    <tr style=\"text-align: right;\">\n",
       "      <th></th>\n",
       "      <th>instance</th>\n",
       "      <th>#Variables</th>\n",
       "      <th>#Clauses</th>\n",
       "      <th>iteration_info</th>\n",
       "      <th>baseline_alg</th>\n",
       "      <th>initial_sample_path</th>\n",
       "      <th>initial_sample_size</th>\n",
       "      <th>lower_bound</th>\n",
       "      <th>optimized_sample_size</th>\n",
       "      <th>time_used_by_yasa</th>\n",
       "      <th>timelimit_for_samplns</th>\n",
       "      <th>samplns_used</th>\n",
       "      <th>best_baseline</th>\n",
       "      <th>best_lns_ub</th>\n",
       "      <th>best_lb</th>\n",
       "    </tr>\n",
       "  </thead>\n",
       "  <tbody>\n",
       "  </tbody>\n",
       "</table>\n",
       "</div>"
      ],
      "text/plain": [
       "Empty DataFrame\n",
       "Columns: [instance, #Variables, #Clauses, iteration_info, baseline_alg, initial_sample_path, initial_sample_size, lower_bound, optimized_sample_size, time_used_by_yasa, timelimit_for_samplns, samplns_used, best_baseline, best_lns_ub, best_lb]\n",
       "Index: []"
      ]
     },
     "execution_count": 28,
     "metadata": {},
     "output_type": "execute_result"
    }
   ],
   "source": [
    "data"
   ]
  },
  {
   "cell_type": "markdown",
   "metadata": {},
   "source": [
    "The data field `iteration_info` contains a list of dicts for each iteration. This dict looks as follows:\n",
    "```\n",
    "{ 'nbrhd_tuples': 166,  # the tuples to be covered in this iteration\n",
    "  'nbrhd_confs': 5,     # the number of configurations deleted from the sample\n",
    "  'iteration': 0,       # the number of the iteration, in this case the first iteration\n",
    "  'lb': 3.0,            # the current best lb (global)\n",
    "  'ub': 23,             # the current best ub (global)\n",
    "  'time': 1.0297019481658936,    # overall time at the end of this iteration\n",
    "  'iteration_time': 0.48791050910949707,   # time in this iteration\n",
    "  'events': [[0.0350489616394043, 'neighborhood_selected'],   # times of events in this iteration. Good for finding the culprit of long runtimes.\n",
    "   [0.24133801460266113, 'local_cds_computed'],\n",
    "   [0.29517436027526855, 'model_built'],\n",
    "   [0.48662543296813965, 'model_optimized'],\n",
    "   [0.48789548873901367, 'neighborhood_optimized'],\n",
    "   [0.48791003227233887, 'global_lb_iteration_finished']]}\n",
    "```"
   ]
  },
  {
   "cell_type": "code",
   "execution_count": 29,
   "metadata": {
    "collapsed": false
   },
   "outputs": [
    {
     "data": {
      "text/html": [
       "<div>\n",
       "<style scoped>\n",
       "    .dataframe tbody tr th:only-of-type {\n",
       "        vertical-align: middle;\n",
       "    }\n",
       "\n",
       "    .dataframe tbody tr th {\n",
       "        vertical-align: top;\n",
       "    }\n",
       "\n",
       "    .dataframe thead th {\n",
       "        text-align: right;\n",
       "    }\n",
       "</style>\n",
       "<table border=\"1\" class=\"dataframe\">\n",
       "  <thead>\n",
       "    <tr style=\"text-align: right;\">\n",
       "      <th></th>\n",
       "      <th>instance</th>\n",
       "      <th>#Variables</th>\n",
       "      <th>#Clauses</th>\n",
       "    </tr>\n",
       "  </thead>\n",
       "  <tbody>\n",
       "  </tbody>\n",
       "</table>\n",
       "</div>"
      ],
      "text/plain": [
       "Empty DataFrame\n",
       "Columns: [instance, #Variables, #Clauses]\n",
       "Index: []"
      ]
     },
     "execution_count": 29,
     "metadata": {},
     "output_type": "execute_result"
    }
   ],
   "source": [
    "instance_infos = (\n",
    "    data[[\"instance\", \"#Variables\", \"#Clauses\"]]\n",
    "    .drop_duplicates()\n",
    "    .sort_values(by=[\"#Variables\", \"#Clauses\"])\n",
    ")\n",
    "instance_infos"
   ]
  },
  {
   "cell_type": "markdown",
   "metadata": {
    "collapsed": false
   },
   "source": [
    "## Extract the iteration data from each optimization\n",
    "\n",
    "Bring them in a format that can easily be plotted by seaborn."
   ]
  },
  {
   "cell_type": "code",
   "execution_count": 30,
   "metadata": {},
   "outputs": [
    {
     "name": "stdout",
     "output_type": "stream",
     "text": [
      "instance                NaN\n",
      "#Variables              NaN\n",
      "#Clauses                NaN\n",
      "iteration_info          NaN\n",
      "baseline_alg            NaN\n",
      "initial_sample_path     NaN\n",
      "initial_sample_size     NaN\n",
      "lower_bound             NaN\n",
      "optimized_sample_size   NaN\n",
      "time_used_by_yasa       NaN\n",
      "timelimit_for_samplns   NaN\n",
      "samplns_used            NaN\n",
      "best_baseline           NaN\n",
      "best_lns_ub             NaN\n",
      "best_lb                 NaN\n",
      "dtype: float64\n"
     ]
    }
   ],
   "source": [
    "import pandas as pd\n",
    "\n",
    "\n",
    "# Collect the data from the iteration_info events.\n",
    "class EventCollector:\n",
    "    def __init__(self):\n",
    "        self.events = {\n",
    "            \"time\": [],\n",
    "            \"val\": [],\n",
    "            \"type\": [],\n",
    "            \"instance\": [],\n",
    "            \"path\": [],\n",
    "            \"alg\": [],\n",
    "            \"initial_sample_size\": [],\n",
    "            \"y\": [],\n",
    "            \"final\": [],\n",
    "        }\n",
    "\n",
    "    def __call__(self, row):\n",
    "        print(row)\n",
    "        it_data = row[\"iteration_info\"]\n",
    "\n",
    "        def add(val, lbub, time, final=False):\n",
    "            if time > 900:\n",
    "                return\n",
    "            self.events[\"time\"].append(time / 60)\n",
    "            self.events[\"val\"].append(val)\n",
    "            self.events[\"type\"].append(lbub)\n",
    "            self.events[\"instance\"].append(row[\"instance\"])\n",
    "            self.events[\"alg\"].append(row[\"baseline_alg\"])\n",
    "            self.events[\"path\"].append(row[\"initial_sample_path\"])\n",
    "            self.events[\"initial_sample_size\"].append(row[\"initial_sample_size\"])\n",
    "            self.events[\"y\"].append(100 * (val / row[\"best_lb\"]))\n",
    "            self.events[\"final\"].append(final)\n",
    "\n",
    "        # add a zero entry\n",
    "        add(0, \"Lower\", 0)\n",
    "        add(row[\"initial_sample_size\"], \"Upper\", 0)\n",
    "        for event in it_data:\n",
    "            add(\n",
    "                event[\"lb\"],\n",
    "                \"Lower\",\n",
    "                event[\"time\"],\n",
    "                final=event[\"lb\"] == row[\"lower_bound\"],\n",
    "            )\n",
    "            add(\n",
    "                event[\"ub\"],\n",
    "                \"Upper\",\n",
    "                event[\"time\"],\n",
    "                final=event[\"ub\"] == row[\"optimized_sample_size\"],\n",
    "            )\n",
    "\n",
    "\n",
    "ec = EventCollector()\n",
    "data[data[\"baseline_alg\"] == \"FIDE-YASA(m=1)\"].sort_values(\n",
    "    by=[\"#Variables\", \"#Clauses\"]\n",
    ").apply(ec, axis=1)\n",
    "t = pd.DataFrame(ec.events)"
   ]
  },
  {
   "cell_type": "markdown",
   "metadata": {
    "collapsed": false
   },
   "source": [
    "## Feature Models on which SampLNS did not finish a single iteration in time\n",
    "\n",
    "These models have very large initial samples (more than a thousand configurations), for which the current implementation is not equipped.\n",
    "The problem lies more in the data structures than the actual approach.\n",
    "They should be feasible with some extra effort in making those data structures more efficient.\n",
    "\n",
    "*A lower bound is still computed for these instances, but without iterations of SampLNS, only the final lower bound is saved after SampLNS aborted.*"
   ]
  },
  {
   "cell_type": "code",
   "execution_count": 31,
   "metadata": {
    "collapsed": false
   },
   "outputs": [
    {
     "data": {
      "text/plain": [
       "[]"
      ]
     },
     "execution_count": 31,
     "metadata": {},
     "output_type": "execute_result"
    }
   ],
   "source": [
    "t_ = t.groupby([\"instance\", \"path\"])[\"time\"].max().reset_index()\n",
    "unsolved_instances = t_[t_[\"time\"] == 0][\"instance\"].unique().tolist()\n",
    "unsolved_instances"
   ]
  },
  {
   "cell_type": "markdown",
   "metadata": {
    "collapsed": false
   },
   "source": [
    "## Plot the convergence for all other models."
   ]
  },
  {
   "cell_type": "code",
   "execution_count": 32,
   "metadata": {
    "collapsed": false
   },
   "outputs": [],
   "source": [
    "solved_instances = [\n",
    "    x for x in instance_infos[\"instance\"].tolist() if x not in unsolved_instances\n",
    "]"
   ]
  },
  {
   "cell_type": "code",
   "execution_count": 33,
   "metadata": {},
   "outputs": [],
   "source": [
    "# Prepare plotting\n",
    "import seaborn as sns\n",
    "\n",
    "sns.set_theme()\n",
    "import matplotlib.pyplot as plt"
   ]
  },
  {
   "cell_type": "code",
   "execution_count": 34,
   "metadata": {},
   "outputs": [],
   "source": [
    "def plot_lb_ub_progress(data, axis, xmax=16, single_instance=False):\n",
    "    instance_descr = \"Model\"\n",
    "    bound_descr = \"Bound\"\n",
    "    t_ = data.rename(columns={\"instance\": instance_descr, \"type\": bound_descr})\n",
    "    if single_instance:\n",
    "        sns.lineplot(\n",
    "            data=t_,\n",
    "            ax=axis,\n",
    "            x=\"time\",\n",
    "            y=\"y\",\n",
    "            style=bound_descr,\n",
    "            hue=\"path\",\n",
    "            units=\"path\",\n",
    "            estimator=None,\n",
    "            markers=False,\n",
    "            palette=\"tab10\",\n",
    "            drawstyle=\"steps-post\",\n",
    "            dashes=[(1.5, 1.5), (3, 3)],\n",
    "            legend=False,\n",
    "        )\n",
    "        sns.scatterplot(\n",
    "            data=t_[t_[bound_descr] == \"Upper\"],\n",
    "            ax=axis,\n",
    "            x=\"time\",\n",
    "            y=\"y\",\n",
    "            hue=\"path\",\n",
    "            marker=\"X\",\n",
    "            palette=\"tab10\",\n",
    "            legend=False,\n",
    "        )\n",
    "    else:\n",
    "        sns.lineplot(\n",
    "            data=t_,\n",
    "            ax=axis,\n",
    "            x=\"time\",\n",
    "            y=\"y\",\n",
    "            style=bound_descr,\n",
    "            hue=instance_descr,\n",
    "            units=\"path\",\n",
    "            estimator=None,\n",
    "            markers=False,\n",
    "            palette=\"tab10\",\n",
    "            drawstyle=\"steps-post\",\n",
    "            dashes=[(1.5, 1.5), (3, 3)],\n",
    "        )\n",
    "        sns.scatterplot(\n",
    "            data=t_[t_[bound_descr] == \"Upper\"],\n",
    "            ax=axis,\n",
    "            x=\"time\",\n",
    "            y=\"y\",\n",
    "            hue=instance_descr,\n",
    "            marker=\"X\",\n",
    "            palette=\"tab10\",\n",
    "            legend=False,\n",
    "        )\n",
    "    axis.set_xlim(-0.1, xmax)\n",
    "    axis.set_xlabel(\"Time in (min)\")\n",
    "    axis.set_ylabel(\"Relative to best lower bound (%)\")\n",
    "    if single_instance:\n",
    "        axis.set_title(\n",
    "            f\"Convergence of upper and lower bound - {data['instance'].tolist()[0]}\"\n",
    "        )\n",
    "    else:\n",
    "        axis.set_title(\"Convergence of upper and lower bound\")"
   ]
  },
  {
   "cell_type": "markdown",
   "metadata": {
    "collapsed": false
   },
   "source": [
    "### All models in one plot\n",
    "\n",
    "This shows us that most models really make quick progress and only a few take a little longer."
   ]
  },
  {
   "cell_type": "code",
   "execution_count": 35,
   "metadata": {
    "collapsed": false
   },
   "outputs": [
    {
     "name": "stderr",
     "output_type": "stream",
     "text": [
      "/tmp/ipykernel_21343/939038844.py:32: UserWarning: Ignoring `palette` because no `hue` variable has been assigned.\n",
      "  sns.lineplot(\n",
      "/tmp/ipykernel_21343/939038844.py:46: UserWarning: Ignoring `palette` because no `hue` variable has been assigned.\n",
      "  sns.scatterplot(\n"
     ]
    },
    {
     "data": {
      "image/png": "[encoded data removed]",
      "text/plain": [
       "<Figure size 1500x1300 with 1 Axes>"
      ]
     },
     "metadata": {},
     "output_type": "display_data"
    }
   ],
   "source": [
    "plt.figure(figsize=(15, 13))\n",
    "plot_lb_ub_progress(t[t[\"instance\"].isin(solved_instances)], plt.gca(), xmax=20)\n",
    "plt.tight_layout()\n",
    "plt.show()"
   ]
  },
  {
   "cell_type": "markdown",
   "metadata": {
    "collapsed": false
   },
   "source": [
    "### Every model with all its five runs."
   ]
  },
  {
   "cell_type": "code",
   "execution_count": 36,
   "metadata": {
    "collapsed": false
   },
   "outputs": [],
   "source": [
    "for i in range(1, len(solved_instances), 1):\n",
    "    plt.figure(figsize=(10, 5))\n",
    "    plot_lb_ub_progress(\n",
    "        t[t[\"instance\"].isin(solved_instances[i : i + 1])],\n",
    "        plt.gca(),\n",
    "        xmax=15.1,\n",
    "        single_instance=True,\n",
    "    )\n",
    "    plt.tight_layout()\n",
    "    plt.show()"
   ]
  },
  {
   "cell_type": "markdown",
   "metadata": {
    "collapsed": false
   },
   "source": [
    "## Looking onto a selection of instances in a single plot"
   ]
  },
  {
   "cell_type": "code",
   "execution_count": 37,
   "metadata": {
    "collapsed": false
   },
   "outputs": [
    {
     "name": "stdout",
     "output_type": "stream",
     "text": [
      "instance                NaN\n",
      "#Variables              NaN\n",
      "#Clauses                NaN\n",
      "iteration_info          NaN\n",
      "baseline_alg            NaN\n",
      "initial_sample_path     NaN\n",
      "initial_sample_size     NaN\n",
      "lower_bound             NaN\n",
      "optimized_sample_size   NaN\n",
      "time_used_by_yasa       NaN\n",
      "timelimit_for_samplns   NaN\n",
      "samplns_used            NaN\n",
      "best_baseline           NaN\n",
      "best_lns_ub             NaN\n",
      "best_lb                 NaN\n",
      "dtype: float64\n"
     ]
    },
    {
     "ename": "TypeError",
     "evalue": "'float' object is not subscriptable",
     "output_type": "error",
     "traceback": [
      "\u001b[0;31m---------------------------------------------------------------------------\u001b[0m",
      "\u001b[0;31mTypeError\u001b[0m                                 Traceback (most recent call last)",
      "Cell \u001b[0;32mIn[37], line 20\u001b[0m\n\u001b[1;32m     16\u001b[0m data[data[\u001b[39m\"\u001b[39m\u001b[39minstance\u001b[39m\u001b[39m\"\u001b[39m]\u001b[39m.\u001b[39misin(selection)]\u001b[39m.\u001b[39mdrop_duplicates(subset\u001b[39m=\u001b[39m[\u001b[39m\"\u001b[39m\u001b[39minstance\u001b[39m\u001b[39m\"\u001b[39m])\u001b[39m.\u001b[39msort_values(\n\u001b[1;32m     17\u001b[0m     by\u001b[39m=\u001b[39m[\u001b[39m\"\u001b[39m\u001b[39m#Variables\u001b[39m\u001b[39m\"\u001b[39m, \u001b[39m\"\u001b[39m\u001b[39m#Clauses\u001b[39m\u001b[39m\"\u001b[39m]\n\u001b[1;32m     18\u001b[0m )\u001b[39m.\u001b[39mapply(ec, axis\u001b[39m=\u001b[39m\u001b[39m1\u001b[39m)\n\u001b[1;32m     19\u001b[0m t_selected \u001b[39m=\u001b[39m pd\u001b[39m.\u001b[39mDataFrame(ec\u001b[39m.\u001b[39mevents)\n\u001b[0;32m---> 20\u001b[0m t_selected[\u001b[39m\"\u001b[39m\u001b[39minstance\u001b[39m\u001b[39m\"\u001b[39m] \u001b[39m=\u001b[39m t_selected[\u001b[39m\"\u001b[39;49m\u001b[39minstance\u001b[39;49m\u001b[39m\"\u001b[39;49m]\u001b[39m.\u001b[39;49mapply(\u001b[39mlambda\u001b[39;49;00m s: s[:\u001b[39m15\u001b[39;49m])\n",
      "File \u001b[0;32m~/anaconda3/envs/mo310/lib/python3.10/site-packages/pandas/core/series.py:4771\u001b[0m, in \u001b[0;36mSeries.apply\u001b[0;34m(self, func, convert_dtype, args, **kwargs)\u001b[0m\n\u001b[1;32m   4661\u001b[0m \u001b[39mdef\u001b[39;00m \u001b[39mapply\u001b[39m(\n\u001b[1;32m   4662\u001b[0m     \u001b[39mself\u001b[39m,\n\u001b[1;32m   4663\u001b[0m     func: AggFuncType,\n\u001b[0;32m   (...)\u001b[0m\n\u001b[1;32m   4666\u001b[0m     \u001b[39m*\u001b[39m\u001b[39m*\u001b[39mkwargs,\n\u001b[1;32m   4667\u001b[0m ) \u001b[39m-\u001b[39m\u001b[39m>\u001b[39m DataFrame \u001b[39m|\u001b[39m Series:\n\u001b[1;32m   4668\u001b[0m     \u001b[39m\"\"\"\u001b[39;00m\n\u001b[1;32m   4669\u001b[0m \u001b[39m    Invoke function on values of Series.\u001b[39;00m\n\u001b[1;32m   4670\u001b[0m \n\u001b[0;32m   (...)\u001b[0m\n\u001b[1;32m   4769\u001b[0m \u001b[39m    dtype: float64\u001b[39;00m\n\u001b[1;32m   4770\u001b[0m \u001b[39m    \"\"\"\u001b[39;00m\n\u001b[0;32m-> 4771\u001b[0m     \u001b[39mreturn\u001b[39;00m SeriesApply(\u001b[39mself\u001b[39;49m, func, convert_dtype, args, kwargs)\u001b[39m.\u001b[39;49mapply()\n",
      "File \u001b[0;32m~/anaconda3/envs/mo310/lib/python3.10/site-packages/pandas/core/apply.py:1123\u001b[0m, in \u001b[0;36mSeriesApply.apply\u001b[0;34m(self)\u001b[0m\n\u001b[1;32m   1120\u001b[0m     \u001b[39mreturn\u001b[39;00m \u001b[39mself\u001b[39m\u001b[39m.\u001b[39mapply_str()\n\u001b[1;32m   1122\u001b[0m \u001b[39m# self.f is Callable\u001b[39;00m\n\u001b[0;32m-> 1123\u001b[0m \u001b[39mreturn\u001b[39;00m \u001b[39mself\u001b[39;49m\u001b[39m.\u001b[39;49mapply_standard()\n",
      "File \u001b[0;32m~/anaconda3/envs/mo310/lib/python3.10/site-packages/pandas/core/apply.py:1174\u001b[0m, in \u001b[0;36mSeriesApply.apply_standard\u001b[0;34m(self)\u001b[0m\n\u001b[1;32m   1172\u001b[0m     \u001b[39melse\u001b[39;00m:\n\u001b[1;32m   1173\u001b[0m         values \u001b[39m=\u001b[39m obj\u001b[39m.\u001b[39mastype(\u001b[39mobject\u001b[39m)\u001b[39m.\u001b[39m_values\n\u001b[0;32m-> 1174\u001b[0m         mapped \u001b[39m=\u001b[39m lib\u001b[39m.\u001b[39;49mmap_infer(\n\u001b[1;32m   1175\u001b[0m             values,\n\u001b[1;32m   1176\u001b[0m             f,\n\u001b[1;32m   1177\u001b[0m             convert\u001b[39m=\u001b[39;49m\u001b[39mself\u001b[39;49m\u001b[39m.\u001b[39;49mconvert_dtype,\n\u001b[1;32m   1178\u001b[0m         )\n\u001b[1;32m   1180\u001b[0m \u001b[39mif\u001b[39;00m \u001b[39mlen\u001b[39m(mapped) \u001b[39mand\u001b[39;00m \u001b[39misinstance\u001b[39m(mapped[\u001b[39m0\u001b[39m], ABCSeries):\n\u001b[1;32m   1181\u001b[0m     \u001b[39m# GH#43986 Need to do list(mapped) in order to get treated as nested\u001b[39;00m\n\u001b[1;32m   1182\u001b[0m     \u001b[39m#  See also GH#25959 regarding EA support\u001b[39;00m\n\u001b[1;32m   1183\u001b[0m     \u001b[39mreturn\u001b[39;00m obj\u001b[39m.\u001b[39m_constructor_expanddim(\u001b[39mlist\u001b[39m(mapped), index\u001b[39m=\u001b[39mobj\u001b[39m.\u001b[39mindex)\n",
      "File \u001b[0;32m~/anaconda3/envs/mo310/lib/python3.10/site-packages/pandas/_libs/lib.pyx:2924\u001b[0m, in \u001b[0;36mpandas._libs.lib.map_infer\u001b[0;34m()\u001b[0m\n",
      "Cell \u001b[0;32mIn[37], line 20\u001b[0m, in \u001b[0;36m<lambda>\u001b[0;34m(s)\u001b[0m\n\u001b[1;32m     16\u001b[0m data[data[\u001b[39m\"\u001b[39m\u001b[39minstance\u001b[39m\u001b[39m\"\u001b[39m]\u001b[39m.\u001b[39misin(selection)]\u001b[39m.\u001b[39mdrop_duplicates(subset\u001b[39m=\u001b[39m[\u001b[39m\"\u001b[39m\u001b[39minstance\u001b[39m\u001b[39m\"\u001b[39m])\u001b[39m.\u001b[39msort_values(\n\u001b[1;32m     17\u001b[0m     by\u001b[39m=\u001b[39m[\u001b[39m\"\u001b[39m\u001b[39m#Variables\u001b[39m\u001b[39m\"\u001b[39m, \u001b[39m\"\u001b[39m\u001b[39m#Clauses\u001b[39m\u001b[39m\"\u001b[39m]\n\u001b[1;32m     18\u001b[0m )\u001b[39m.\u001b[39mapply(ec, axis\u001b[39m=\u001b[39m\u001b[39m1\u001b[39m)\n\u001b[1;32m     19\u001b[0m t_selected \u001b[39m=\u001b[39m pd\u001b[39m.\u001b[39mDataFrame(ec\u001b[39m.\u001b[39mevents)\n\u001b[0;32m---> 20\u001b[0m t_selected[\u001b[39m\"\u001b[39m\u001b[39minstance\u001b[39m\u001b[39m\"\u001b[39m] \u001b[39m=\u001b[39m t_selected[\u001b[39m\"\u001b[39m\u001b[39minstance\u001b[39m\u001b[39m\"\u001b[39m]\u001b[39m.\u001b[39mapply(\u001b[39mlambda\u001b[39;00m s: s[:\u001b[39m15\u001b[39;49m])\n",
      "\u001b[0;31mTypeError\u001b[0m: 'float' object is not subscriptable"
     ]
    }
   ],
   "source": [
    "ec = EventCollector()\n",
    "selection = [\n",
    "    \"PPU\",\n",
    "    # small, optimal initial sample, no improvement, reached lower bound, progress within seconds + largest system for which an existing sampling algorithm is optimal\n",
    "    \"axTLS\",\n",
    "    # small, bad initial sample, large improvement, tight lower bound, progress for 0/1 min + smallest system that we cannot optimally solve\n",
    "    \"berkeleyDB2\",\n",
    "    # small, bad initial sample, large improvement, reached lower bound, progress for 6/3 min + one of the most significant improvements (43% + optimal afterwards)\n",
    "    \"fs_2017-05-22\",\n",
    "    # medium, good initial sample, small improvement, tight lower bound, progress for 0/10 min + smallest improvement (near-optimal sample still improved)\n",
    "    \"busybox_2020-12-16_21-53-05\",\n",
    "    # medium, bad initial sample, improvement over ~6 minutes, quick progress on lb.\n",
    "    \"FreeBSD-8_0_0\"\n",
    "    # medium, bad initial sample, large improvement, far lower bound, progress for 15/15 min + system with the largest remaining gap between LB=30 and sample=59 (almost 100%)\n",
    "]\n",
    "data[data[\"instance\"].isin(selection)].drop_duplicates(subset=[\"instance\"]).sort_values(\n",
    "    by=[\"#Variables\", \"#Clauses\"]\n",
    ").apply(ec, axis=1)\n",
    "t_selected = pd.DataFrame(ec.events)\n",
    "t_selected[\"instance\"] = t_selected[\"instance\"].apply(lambda s: s[:15])"
   ]
  },
  {
   "cell_type": "code",
   "execution_count": null,
   "metadata": {
    "collapsed": false
   },
   "outputs": [
    {
     "data": {
      "image/png": "[encoded data removed]",
      "text/plain": [
       "<Figure size 600x450 with 1 Axes>"
      ]
     },
     "metadata": {},
     "output_type": "display_data"
    }
   ],
   "source": [
    "plt.figure(figsize=(6, 4.5))\n",
    "plot_lb_ub_progress(t_selected, plt.gca(), xmax=16)\n",
    "plt.legend(ncols=3, loc=\"lower right\", prop={\"size\": 10})\n",
    "plt.tight_layout()\n",
    "plt.savefig(\"./plots/01_12_convergence_of_selected_models.pdf\")\n",
    "plt.show()"
   ]
  },
  {
   "cell_type": "markdown",
   "metadata": {
    "collapsed": false
   },
   "source": [
    "## Time of last change\n",
    "\n",
    "To get a better grasp of the necessary time."
   ]
  },
  {
   "cell_type": "code",
   "execution_count": null,
   "metadata": {
    "collapsed": false
   },
   "outputs": [
    {
     "data": {
      "text/html": [
       "<div>\n",
       "<style scoped>\n",
       "    .dataframe tbody tr th:only-of-type {\n",
       "        vertical-align: middle;\n",
       "    }\n",
       "\n",
       "    .dataframe tbody tr th {\n",
       "        vertical-align: top;\n",
       "    }\n",
       "\n",
       "    .dataframe thead th {\n",
       "        text-align: right;\n",
       "    }\n",
       "</style>\n",
       "<table border=\"1\" class=\"dataframe\">\n",
       "  <thead>\n",
       "    <tr style=\"text-align: right;\">\n",
       "      <th></th>\n",
       "      <th></th>\n",
       "      <th>time</th>\n",
       "    </tr>\n",
       "    <tr>\n",
       "      <th>instance</th>\n",
       "      <th>type</th>\n",
       "      <th></th>\n",
       "    </tr>\n",
       "  </thead>\n",
       "  <tbody>\n",
       "    <tr>\n",
       "      <th rowspan=\"2\" valign=\"top\">APL</th>\n",
       "      <th>Lower</th>\n",
       "      <td>0.175321</td>\n",
       "    </tr>\n",
       "    <tr>\n",
       "      <th>Upper</th>\n",
       "      <td>0.036784</td>\n",
       "    </tr>\n",
       "    <tr>\n",
       "      <th rowspan=\"2\" valign=\"top\">APL-Model</th>\n",
       "      <th>Lower</th>\n",
       "      <td>3.245461</td>\n",
       "    </tr>\n",
       "    <tr>\n",
       "      <th>Upper</th>\n",
       "      <td>1.120704</td>\n",
       "    </tr>\n",
       "    <tr>\n",
       "      <th>BankingSoftware</th>\n",
       "      <th>Lower</th>\n",
       "      <td>0.580680</td>\n",
       "    </tr>\n",
       "    <tr>\n",
       "      <th>...</th>\n",
       "      <th>...</th>\n",
       "      <td>...</td>\n",
       "    </tr>\n",
       "    <tr>\n",
       "      <th>soletta_2017-03-09_21-02-40</th>\n",
       "      <th>Upper</th>\n",
       "      <td>8.109217</td>\n",
       "    </tr>\n",
       "    <tr>\n",
       "      <th rowspan=\"2\" valign=\"top\">toybox_2006-10-31_23-30-06</th>\n",
       "      <th>Lower</th>\n",
       "      <td>0.094598</td>\n",
       "    </tr>\n",
       "    <tr>\n",
       "      <th>Upper</th>\n",
       "      <td>0.078446</td>\n",
       "    </tr>\n",
       "    <tr>\n",
       "      <th rowspan=\"2\" valign=\"top\">toybox_2020-12-06_00-02-46</th>\n",
       "      <th>Lower</th>\n",
       "      <td>5.568355</td>\n",
       "    </tr>\n",
       "    <tr>\n",
       "      <th>Upper</th>\n",
       "      <td>3.410337</td>\n",
       "    </tr>\n",
       "  </tbody>\n",
       "</table>\n",
       "<p>86 rows × 1 columns</p>\n",
       "</div>"
      ],
      "text/plain": [
       "                                       time\n",
       "instance                    type           \n",
       "APL                         Lower  0.175321\n",
       "                            Upper  0.036784\n",
       "APL-Model                   Lower  3.245461\n",
       "                            Upper  1.120704\n",
       "BankingSoftware             Lower  0.580680\n",
       "...                                     ...\n",
       "soletta_2017-03-09_21-02-40 Upper  8.109217\n",
       "toybox_2006-10-31_23-30-06  Lower  0.094598\n",
       "                            Upper  0.078446\n",
       "toybox_2020-12-06_00-02-46  Lower  5.568355\n",
       "                            Upper  3.410337\n",
       "\n",
       "[86 rows x 1 columns]"
      ]
     },
     "execution_count": 14,
     "metadata": {},
     "output_type": "execute_result"
    }
   ],
   "source": [
    "time_until_last_change = (\n",
    "    t[t[\"final\"] & (t[\"instance\"].isin(solved_instances))]\n",
    "    .groupby([\"instance\", \"path\", \"type\"])[[\"time\"]]\n",
    "    .min()\n",
    "    .reset_index()\n",
    "    .groupby([\"instance\", \"type\"])[[\"time\"]]\n",
    "    .mean()\n",
    ")\n",
    "time_until_last_change"
   ]
  },
  {
   "cell_type": "code",
   "execution_count": null,
   "metadata": {
    "collapsed": false
   },
   "outputs": [
    {
     "data": {
      "text/plain": [
       "time    16\n",
       "dtype: int64"
      ]
     },
     "execution_count": 15,
     "metadata": {},
     "output_type": "execute_result"
    }
   ],
   "source": [
    "(time_until_last_change.groupby(\"instance\")[[\"time\"]].max() < 3).sum()"
   ]
  },
  {
   "cell_type": "code",
   "execution_count": null,
   "metadata": {
    "collapsed": false
   },
   "outputs": [
    {
     "data": {
      "text/html": [
       "<div>\n",
       "<style scoped>\n",
       "    .dataframe tbody tr th:only-of-type {\n",
       "        vertical-align: middle;\n",
       "    }\n",
       "\n",
       "    .dataframe tbody tr th {\n",
       "        vertical-align: top;\n",
       "    }\n",
       "\n",
       "    .dataframe thead th {\n",
       "        text-align: right;\n",
       "    }\n",
       "</style>\n",
       "<table border=\"1\" class=\"dataframe\">\n",
       "  <thead>\n",
       "    <tr style=\"text-align: right;\">\n",
       "      <th></th>\n",
       "      <th>time</th>\n",
       "    </tr>\n",
       "    <tr>\n",
       "      <th>type</th>\n",
       "      <th></th>\n",
       "    </tr>\n",
       "  </thead>\n",
       "  <tbody>\n",
       "    <tr>\n",
       "      <th>Lower</th>\n",
       "      <td>3.750551</td>\n",
       "    </tr>\n",
       "    <tr>\n",
       "      <th>Upper</th>\n",
       "      <td>5.902218</td>\n",
       "    </tr>\n",
       "  </tbody>\n",
       "</table>\n",
       "</div>"
      ],
      "text/plain": [
       "           time\n",
       "type           \n",
       "Lower  3.750551\n",
       "Upper  5.902218"
      ]
     },
     "execution_count": 16,
     "metadata": {},
     "output_type": "execute_result"
    }
   ],
   "source": [
    "time_until_last_change.reset_index().groupby(\"type\")[[\"time\"]].mean()"
   ]
  }
 ],
 "metadata": {
  "kernelspec": {
   "display_name": "Python 3 (ipykernel)",
   "language": "python",
   "name": "python3"
  },
  "language_info": {
   "codemirror_mode": {
    "name": "ipython",
    "version": 3
   },
   "file_extension": ".py",
   "mimetype": "text/x-python",
   "name": "python",
   "nbconvert_exporter": "python",
   "pygments_lexer": "ipython3",
   "version": "3.10.9"
  }
 },
 "nbformat": 4,
 "nbformat_minor": 1
}
