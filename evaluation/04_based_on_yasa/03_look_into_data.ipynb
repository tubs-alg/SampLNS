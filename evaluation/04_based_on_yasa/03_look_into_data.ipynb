{
 "cells": [
  {
   "cell_type": "code",
   "execution_count": 2,
   "metadata": {},
   "outputs": [
    {
     "name": "stdout",
     "output_type": "stream",
     "text": [
      "An entry in the database can look like this:\n",
      "_____________________________________________\n",
      " result:\n",
      "| samplns_used: True\n",
      "| time_used_by_yasa: 2.278\n",
      "| timelimit_for_samplns: 897.722\n",
      "| solution: [{'CONFIG_FEATURE_SYSLOGD_READ_BUFFER_SIZE': True, 'CONFIG_FEATURE_DATE_ISOFM...\n",
      "| lower_bound: 18\n",
      "| upper_bound: 23\n",
      "| optimal: False\n",
      "| iteration_info: [{'nbrhd_tuples': 222, 'nbrhd_confs': 4, 'iteration': 0, 'lb': 7, 'ub': 39, '...\n",
      " timestamp: 2023-08-03T18:26:36.997602\n",
      " runtime: 909.2880804538727\n",
      " stdout: [[0.008133411407470703, 'Parsing DIMACS\\n']]\n",
      " stderr: []\n",
      " logging: [{'name': 'SampLNS', 'msg': \"Parsed instance '%s' with %d features and %d rul...\n",
      " env_fingerprint: 96f58cc2536b3b15973e93523693939995dda94e\n",
      " args_fingerprint: 6afd8fb6515f03e589a8573231f5664350fb0b74\n",
      " parameters:\n",
      "| func: run_samplns\n",
      "| args:\n",
      "|| instance_name: busybox_2020-12-16_21-53-05\n",
      "|| initial_sample_path: 2023-03-01_13-51-03/38_1_7_5_sample.csv\n",
      "|| instance_archive: ../01_ICSE_2024_0//00_benchmark_instances.zip\n",
      "|| input_sample_archive: ../01_ICSE_2024_0/00_baseline/900_seconds_5_it.zip\n",
      "|| iterations: 10000\n",
      "|| iteration_time_limit: 60.0\n",
      "|| time_limit: 900\n",
      "|| verify: True\n",
      "|| fast_verify: True\n",
      " argv: ['/ibr/home/krupke/anaconda3/envs/mo310/lib/python3.10/site-packages/slurmina...\n",
      " env:\n",
      "| hostname: algry04\n",
      "| python_version: 3.10.8 (main, Nov 24 2022, 14:13:03) [GCC 11.2.0]\n",
      "| python: /ibr/home/krupke/anaconda3/envs/mo310/bin/python3\n",
      "| cwd: /misc/ibr/home/krupke/SampLNS/evaluation/04_based_on_yasa\n",
      "| environment: [{'name': 'certifi', 'path': '/misc/ibr/home/krupke/anaconda3/envs/mo310/lib/...\n",
      "| git_revision: 027ea19f7a111e3149a1f7ad5960da6000627c63\n",
      "| python_file: /ibr/home/krupke/anaconda3/envs/mo310/lib/python3.10/site-packages/slurminade...\n",
      "______________________________________________\n",
      "Note that this is only based on the first entry, other entries could differ.\n"
     ]
    }
   ],
   "source": [
    "from _conf import ITERATIONS, ITERATION_TIME_LIMIT, TIME_LIMIT, BASE, RESULT_FOLDER, INPUT_SAMPLE_ARCHIVE, INSTANCE_ARCHIVE\n",
    "\n",
    "\n",
    "\n",
    "from algbench import describe\n",
    "\n",
    "describe(RESULT_FOLDER)"
   ]
  }
 ],
 "metadata": {
  "kernelspec": {
   "display_name": "mo310",
   "language": "python",
   "name": "python3"
  },
  "language_info": {
   "codemirror_mode": {
    "name": "ipython",
    "version": 3
   },
   "file_extension": ".py",
   "mimetype": "text/x-python",
   "name": "python",
   "nbconvert_exporter": "python",
   "pygments_lexer": "ipython3",
   "version": "3.10.9"
  },
  "orig_nbformat": 4
 },
 "nbformat": 4,
 "nbformat_minor": 2
}
