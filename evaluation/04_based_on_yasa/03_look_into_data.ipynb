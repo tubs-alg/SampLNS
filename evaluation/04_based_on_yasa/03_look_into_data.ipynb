{
 "cells": [
  {
   "cell_type": "code",
   "execution_count": 1,
   "metadata": {},
   "outputs": [
    {
     "name": "stdout",
     "output_type": "stream",
     "text": [
      "An entry in the database can look like this:\n",
      "_____________________________________________\n",
      " result: None\n",
      " timestamp: 2023-07-26T17:46:51.285297\n",
      " runtime: 0.02081465721130371\n",
      " stdout: None\n",
      " stderr: None\n",
      " logging: []\n",
      " env_fingerprint: f41a0258112a497a34ccf5461ab4919c86de722d\n",
      " args_fingerprint: b6fe1036211b77f3ab8a4a88fb5d04e489ee9346\n",
      " parameters:\n",
      "| func: run_samplns\n",
      "| args:\n",
      "|| instance_name: SortingLine\n",
      "|| initial_sample_path: 2023-03-01_13-51-03/14_1_7_3_sample.csv\n",
      "|| instance_archive: ../01_ICSE_2024_0//00_benchmark_instances.zip\n",
      "|| input_sample_archive: ../01_ICSE_2024_0/00_baseline/900_seconds_5_it.zip\n",
      "|| iterations: 10000\n",
      "|| iteration_time_limit: 60.0\n",
      "|| time_limit: 900\n",
      "|| verify: True\n",
      "|| fast_verify: True\n",
      " argv: ['/ibr/home/krupke/anaconda3/envs/mo310/lib/python3.10/site-packages/slurmina...\n",
      " env:\n",
      "| hostname: algry02\n",
      "| python_version: 3.10.8 (main, Nov 24 2022, 14:13:03) [GCC 11.2.0]\n",
      "| python: /ibr/home/krupke/anaconda3/envs/mo310/bin/python3\n",
      "| cwd: /misc/ibr/home/krupke/SampLNS/evaluation/04_based_on_yasa\n",
      "| environment: [{'name': 'certifi', 'path': '/misc/ibr/home/krupke/anaconda3/envs/mo310/lib/...\n",
      "| git_revision: 871249914de1fe4a38b9b179091d966a7c87894e\n",
      "| python_file: /ibr/home/krupke/anaconda3/envs/mo310/lib/python3.10/site-packages/slurminade...\n",
      "______________________________________________\n",
      "Note that this is only based on the first entry, other entries could differ.\n"
     ]
    }
   ],
   "source": [
    "INPUT_SAMPLE_ARCHIVE = \"./00_baseline/900_seconds_5_it.zip\"\n",
    "INSTANCE_ARCHIVE = \"./00_benchmark_instances.zip\"\n",
    "RESULT_FOLDER = \"./01_results/900_seconds_5_it_900/\"\n",
    "\n",
    "from algbench import describe\n",
    "\n",
    "describe(RESULT_FOLDER)"
   ]
  }
 ],
 "metadata": {
  "kernelspec": {
   "display_name": "mo310",
   "language": "python",
   "name": "python3"
  },
  "language_info": {
   "codemirror_mode": {
    "name": "ipython",
    "version": 3
   },
   "file_extension": ".py",
   "mimetype": "text/x-python",
   "name": "python",
   "nbconvert_exporter": "python",
   "pygments_lexer": "ipython3",
   "version": "3.10.9"
  },
  "orig_nbformat": 4
 },
 "nbformat": 4,
 "nbformat_minor": 2
}
