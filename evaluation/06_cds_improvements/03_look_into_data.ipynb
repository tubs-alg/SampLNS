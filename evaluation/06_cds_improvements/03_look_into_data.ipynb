{
 "cells": [
  {
   "cell_type": "code",
   "execution_count": 1,
   "metadata": {},
   "outputs": [
    {
     "name": "stdout",
     "output_type": "stream",
     "text": [
      "An entry in the database can look like this:\n",
      "_____________________________________________\n",
      " result:\n",
      "| samplns_used: True\n",
      "| time_used_by_yasa: 3.389\n",
      "| timelimit_for_samplns: 896.611\n",
      "| solution: [{'CYGPKG_HAL': True, 'CYGPKG_HAL_COMMON': True, 'CYGPKG_HAL_COMMON_INTERRUPT...\n",
      "| lower_bound: 27\n",
      "| upper_bound: 47\n",
      "| optimal: False\n",
      "| iteration_info: [{'nbrhd_tuples': 92, 'nbrhd_confs': 4, 'iteration': 0, 'lb': 16, 'ub': 71, '...\n",
      " timestamp: 2023-08-10T12:19:32.725485\n",
      " runtime: 901.0195496082306\n",
      " stdout: [[0.03251528739929199, 'Parsing FeatureIDE\\n']]\n",
      " stderr: []\n",
      " logging: [{'name': 'SampLNS', 'msg': \"Parsed instance '%s' with %d features and %d rul...\n",
      " env_fingerprint: 6730cfa081f74ee9de043d5a0380c311f71f231c\n",
      " args_fingerprint: 4675621a5fab57a8351a25155f50adb1f5751d64\n",
      " parameters:\n",
      "| func: run_samplns\n",
      "| args:\n",
      "|| instance_name: integrator_arm7\n",
      "|| initial_sample_path: 2023-03-01_13-51-03/43_1_7_2_sample.csv\n",
      "|| instance_archive: ../01_ICSE_2024_0//00_benchmark_instances.zip\n",
      "|| input_sample_archive: ../01_ICSE_2024_0/00_baseline/900_seconds_5_it.zip\n",
      "|| iterations: 10000\n",
      "|| iteration_time_limit: 60.0\n",
      "|| time_limit: 900\n",
      "|| verify: True\n",
      "|| fast_verify: True\n",
      " argv: ['/ibr/home/krupke/anaconda3/envs/mo310/lib/python3.10/site-packages/slurmina...\n",
      " env:\n",
      "| hostname: algry04\n",
      "| python_version: 3.10.8 (main, Nov 24 2022, 14:13:03) [GCC 11.2.0]\n",
      "| python: /ibr/home/krupke/anaconda3/envs/mo310/bin/python3\n",
      "| cwd: /misc/ibr/home/krupke/SampLNS/evaluation/06_cds_improvements\n",
      "| environment: [{'name': 'certifi', 'path': '/misc/ibr/home/krupke/anaconda3/envs/mo310/lib/...\n",
      "| git_revision: ca42fb090c45bf0c5278fb7aa2f172db6e6878a1\n",
      "| python_file: /ibr/home/krupke/anaconda3/envs/mo310/lib/python3.10/site-packages/slurminade...\n",
      "______________________________________________\n",
      "Note that this is only based on the first entry, other entries could differ.\n"
     ]
    }
   ],
   "source": [
    "from _conf import ITERATIONS, ITERATION_TIME_LIMIT, TIME_LIMIT, BASE, RESULT_FOLDER, INPUT_SAMPLE_ARCHIVE, INSTANCE_ARCHIVE\n",
    "\n",
    "\n",
    "\n",
    "from algbench import describe\n",
    "\n",
    "describe(RESULT_FOLDER)"
   ]
  },
  {
   "cell_type": "code",
   "execution_count": null,
   "metadata": {},
   "outputs": [],
   "source": []
  },
  {
   "cell_type": "code",
   "execution_count": null,
   "metadata": {},
   "outputs": [],
   "source": []
  }
 ],
 "metadata": {
  "kernelspec": {
   "display_name": "mo310",
   "language": "python",
   "name": "python3"
  },
  "language_info": {
   "codemirror_mode": {
    "name": "ipython",
    "version": 3
   },
   "file_extension": ".py",
   "mimetype": "text/x-python",
   "name": "python",
   "nbconvert_exporter": "python",
   "pygments_lexer": "ipython3",
   "version": "3.10.9"
  },
  "orig_nbformat": 4
 },
 "nbformat": 4,
 "nbformat_minor": 2
}
