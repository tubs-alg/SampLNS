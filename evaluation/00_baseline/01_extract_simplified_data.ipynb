{
 "cells": [
  {
   "cell_type": "code",
   "execution_count": 1,
   "metadata": {
    "ExecuteTime": {
     "end_time": "2024-03-07T06:58:30.987637Z",
     "start_time": "2024-03-07T06:58:30.470454Z"
    }
   },
   "outputs": [],
   "source": [
    "import pandas as pd\n",
    "from _conf import BASELINE_ARCHIVES\n",
    "from _utils import parse_solution_overview"
   ]
  },
  {
   "cell_type": "code",
   "execution_count": 2,
   "metadata": {
    "ExecuteTime": {
     "end_time": "2024-03-07T06:58:31.803140Z",
     "start_time": "2024-03-07T06:58:31.674967Z"
    }
   },
   "outputs": [
    {
     "name": "stdout",
     "output_type": "stream",
     "text": [
      "Found the data folders: {'2024-03-05_20-58-33/', '2024-03-05_20-59-10/', '2024-03-05_20-59-01/', '2024-03-05_20-58-42/', '2024-03-05_20-58-53/', '2024-03-05_20-58-25/'}\n",
      "['FIDE-ICPL' 'FIDE-Chvatal' 'Incling' 'FIDE-YASA' 'ACTS-IPOG-FT'\n",
      " 'ACTS-IPOG-CSP' 'ACTS-IPOF-FT' 'ACTS-IPOF-CSP']\n",
      "['FIDE-ICPL' 'FIDE-Chvatal' 'Incling' 'FIDE-YASA' 'ACTS-IPOG-FT'\n",
      " 'ACTS-IPOG-CSP' 'ACTS-IPOF-FT' 'ACTS-IPOF-CSP']\n"
     ]
    },
    {
     "data": {
      "text/plain": "                   instance_name  num_vars  num_clauses   baseline_alg  \\\n0     fiasco_2017-09-26_11-30-56       230         1181      FIDE-ICPL   \n1     fiasco_2017-09-26_11-30-56       230         1181      FIDE-ICPL   \n2     fiasco_2017-09-26_11-30-56       230         1181      FIDE-ICPL   \n3     fiasco_2017-09-26_11-30-56       230         1181      FIDE-ICPL   \n4     fiasco_2017-09-26_11-30-56       230         1181      FIDE-ICPL   \n...                          ...       ...          ...            ...   \n2580            atlas_mips32_4kc      1229         2875  ACTS-IPOF-CSP   \n2581            atlas_mips32_4kc      1229         2875  ACTS-IPOF-CSP   \n2582            atlas_mips32_4kc      1229         2875  ACTS-IPOF-CSP   \n2583            atlas_mips32_4kc      1229         2875  ACTS-IPOF-CSP   \n2584            atlas_mips32_4kc      1229         2875  ACTS-IPOF-CSP   \n\n     baseline_alg_conf  runtime  sample_size  \\\n0                   t2     5786        253.0   \n1                   t2     5756        244.0   \n2                   t2     6510        246.0   \n3                   t2     5444        261.0   \n4                   t2     6051        242.0   \n...                ...      ...          ...   \n2580                t2   900008          NaN   \n2581                t2   900008          NaN   \n2582                t2   900006          NaN   \n2583                t2   900008          NaN   \n2584                t2   900007          NaN   \n\n                     path_to_baseline_sample                   archive_path  \n0     2024-03-05_20-58-33/1_1_0_1_sample.csv  ./EXTERNAL_INPUT/baseline.zip  \n1     2024-03-05_20-58-33/1_2_0_1_sample.csv  ./EXTERNAL_INPUT/baseline.zip  \n2     2024-03-05_20-58-33/1_3_0_1_sample.csv  ./EXTERNAL_INPUT/baseline.zip  \n3     2024-03-05_20-58-33/1_4_0_1_sample.csv  ./EXTERNAL_INPUT/baseline.zip  \n4     2024-03-05_20-58-33/1_5_0_1_sample.csv  ./EXTERNAL_INPUT/baseline.zip  \n...                                      ...                            ...  \n2580                                    None  ./EXTERNAL_INPUT/baseline.zip  \n2581                                    None  ./EXTERNAL_INPUT/baseline.zip  \n2582                                    None  ./EXTERNAL_INPUT/baseline.zip  \n2583                                    None  ./EXTERNAL_INPUT/baseline.zip  \n2584                                    None  ./EXTERNAL_INPUT/baseline.zip  \n\n[2585 rows x 9 columns]",
      "text/html": "<div>\n<style scoped>\n    .dataframe tbody tr th:only-of-type {\n        vertical-align: middle;\n    }\n\n    .dataframe tbody tr th {\n        vertical-align: top;\n    }\n\n    .dataframe thead th {\n        text-align: right;\n    }\n</style>\n<table border=\"1\" class=\"dataframe\">\n  <thead>\n    <tr style=\"text-align: right;\">\n      <th></th>\n      <th>instance_name</th>\n      <th>num_vars</th>\n      <th>num_clauses</th>\n      <th>baseline_alg</th>\n      <th>baseline_alg_conf</th>\n      <th>runtime</th>\n      <th>sample_size</th>\n      <th>path_to_baseline_sample</th>\n      <th>archive_path</th>\n    </tr>\n  </thead>\n  <tbody>\n    <tr>\n      <th>0</th>\n      <td>fiasco_2017-09-26_11-30-56</td>\n      <td>230</td>\n      <td>1181</td>\n      <td>FIDE-ICPL</td>\n      <td>t2</td>\n      <td>5786</td>\n      <td>253.0</td>\n      <td>2024-03-05_20-58-33/1_1_0_1_sample.csv</td>\n      <td>./EXTERNAL_INPUT/baseline.zip</td>\n    </tr>\n    <tr>\n      <th>1</th>\n      <td>fiasco_2017-09-26_11-30-56</td>\n      <td>230</td>\n      <td>1181</td>\n      <td>FIDE-ICPL</td>\n      <td>t2</td>\n      <td>5756</td>\n      <td>244.0</td>\n      <td>2024-03-05_20-58-33/1_2_0_1_sample.csv</td>\n      <td>./EXTERNAL_INPUT/baseline.zip</td>\n    </tr>\n    <tr>\n      <th>2</th>\n      <td>fiasco_2017-09-26_11-30-56</td>\n      <td>230</td>\n      <td>1181</td>\n      <td>FIDE-ICPL</td>\n      <td>t2</td>\n      <td>6510</td>\n      <td>246.0</td>\n      <td>2024-03-05_20-58-33/1_3_0_1_sample.csv</td>\n      <td>./EXTERNAL_INPUT/baseline.zip</td>\n    </tr>\n    <tr>\n      <th>3</th>\n      <td>fiasco_2017-09-26_11-30-56</td>\n      <td>230</td>\n      <td>1181</td>\n      <td>FIDE-ICPL</td>\n      <td>t2</td>\n      <td>5444</td>\n      <td>261.0</td>\n      <td>2024-03-05_20-58-33/1_4_0_1_sample.csv</td>\n      <td>./EXTERNAL_INPUT/baseline.zip</td>\n    </tr>\n    <tr>\n      <th>4</th>\n      <td>fiasco_2017-09-26_11-30-56</td>\n      <td>230</td>\n      <td>1181</td>\n      <td>FIDE-ICPL</td>\n      <td>t2</td>\n      <td>6051</td>\n      <td>242.0</td>\n      <td>2024-03-05_20-58-33/1_5_0_1_sample.csv</td>\n      <td>./EXTERNAL_INPUT/baseline.zip</td>\n    </tr>\n    <tr>\n      <th>...</th>\n      <td>...</td>\n      <td>...</td>\n      <td>...</td>\n      <td>...</td>\n      <td>...</td>\n      <td>...</td>\n      <td>...</td>\n      <td>...</td>\n      <td>...</td>\n    </tr>\n    <tr>\n      <th>2580</th>\n      <td>atlas_mips32_4kc</td>\n      <td>1229</td>\n      <td>2875</td>\n      <td>ACTS-IPOF-CSP</td>\n      <td>t2</td>\n      <td>900008</td>\n      <td>NaN</td>\n      <td>None</td>\n      <td>./EXTERNAL_INPUT/baseline.zip</td>\n    </tr>\n    <tr>\n      <th>2581</th>\n      <td>atlas_mips32_4kc</td>\n      <td>1229</td>\n      <td>2875</td>\n      <td>ACTS-IPOF-CSP</td>\n      <td>t2</td>\n      <td>900008</td>\n      <td>NaN</td>\n      <td>None</td>\n      <td>./EXTERNAL_INPUT/baseline.zip</td>\n    </tr>\n    <tr>\n      <th>2582</th>\n      <td>atlas_mips32_4kc</td>\n      <td>1229</td>\n      <td>2875</td>\n      <td>ACTS-IPOF-CSP</td>\n      <td>t2</td>\n      <td>900006</td>\n      <td>NaN</td>\n      <td>None</td>\n      <td>./EXTERNAL_INPUT/baseline.zip</td>\n    </tr>\n    <tr>\n      <th>2583</th>\n      <td>atlas_mips32_4kc</td>\n      <td>1229</td>\n      <td>2875</td>\n      <td>ACTS-IPOF-CSP</td>\n      <td>t2</td>\n      <td>900008</td>\n      <td>NaN</td>\n      <td>None</td>\n      <td>./EXTERNAL_INPUT/baseline.zip</td>\n    </tr>\n    <tr>\n      <th>2584</th>\n      <td>atlas_mips32_4kc</td>\n      <td>1229</td>\n      <td>2875</td>\n      <td>ACTS-IPOF-CSP</td>\n      <td>t2</td>\n      <td>900007</td>\n      <td>NaN</td>\n      <td>None</td>\n      <td>./EXTERNAL_INPUT/baseline.zip</td>\n    </tr>\n  </tbody>\n</table>\n<p>2585 rows × 9 columns</p>\n</div>"
     },
     "execution_count": 2,
     "metadata": {},
     "output_type": "execute_result"
    }
   ],
   "source": [
    "baseline_data = pd.concat(\n",
    "    [parse_solution_overview(p) for p in BASELINE_ARCHIVES], ignore_index=True\n",
    ")\n",
    "baseline_data = baseline_data.drop_duplicates(\n",
    "    subset=[\n",
    "        \"Instance\",\n",
    "        \"AlgorithmID\",\n",
    "        \"SystemIteration\",\n",
    "        \"ModelID\",\n",
    "        \"Settings\",\n",
    "        \"ArchivePath\",\n",
    "    ]\n",
    ")\n",
    "baseline_data.loc[baseline_data[\"Path\"].isna(), \"SampleSize\"] = None\n",
    "baseline_data = baseline_data[\n",
    "    [\n",
    "        \"Instance\",\n",
    "        \"#Variables\",\n",
    "        \"#Clauses\",\n",
    "        \"Algorithm\",\n",
    "        \"Settings\",\n",
    "        \"Time\",\n",
    "        \"SampleSize\",\n",
    "        \"Path\",\n",
    "        \"ArchivePath\",\n",
    "    ]\n",
    "]\n",
    "baseline_data.rename(\n",
    "    columns={\n",
    "        \"Time\": \"runtime\",\n",
    "        \"#Variables\": \"num_vars\",\n",
    "        \"#Clauses\": \"num_clauses\",\n",
    "        \"Instance\": \"instance_name\",\n",
    "        \"Path\": \"path_to_baseline_sample\",\n",
    "        \"Algorithm\": \"baseline_alg\",\n",
    "        \"Settings\": \"baseline_alg_conf\",\n",
    "        \"SampleSize\": \"sample_size\",\n",
    "        \"ArchivePath\": \"archive_path\",\n",
    "    },\n",
    "    inplace=True,\n",
    ")\n",
    "print(baseline_data[\"baseline_alg\"].unique())\n",
    "baseline_data.dropna(subset=[\"baseline_alg\"], inplace=True)\n",
    "print(baseline_data[\"baseline_alg\"].unique())\n",
    "#print(list(baseline_data[\"baseline_alg\"]))\n",
    "baseline_data = baseline_data[~baseline_data[\"baseline_alg\"].str.startswith(\"YASA\")]\n",
    "baseline_data"
   ]
  },
  {
   "cell_type": "code",
   "execution_count": 3,
   "metadata": {
    "ExecuteTime": {
     "end_time": "2024-03-07T06:58:33.264504Z",
     "start_time": "2024-03-07T06:58:33.259710Z"
    }
   },
   "outputs": [
    {
     "name": "stdout",
     "output_type": "stream",
     "text": [
      "47\n"
     ]
    },
    {
     "data": {
      "text/plain": "array(['fiasco_2017-09-26_11-30-56', 'fiasco_2020-12-01_14-09-14',\n       'uclibc_2008-06-05_13-46-47', 'uclibc_2020-12-24_11-54-53',\n       'integrator_arm7', 'XSEngine', 'busybox_2020-12-16_21-53-05',\n       'FameDB', 'busybox-1_29_2', 'soletta_2017-03-09_21-02-40', 'lcm',\n       'dell', 'ChatClient', 'SafeBali', 'am31_sim', 'TightVNC',\n       'EMBToolkit', 'car', 'financial_services', 'SortingLine',\n       'WaterlooGenerated', 'busybox-1_18_0',\n       'toybox_2006-10-31_23-30-06', 'busybox_2007-01-24_09-14-09',\n       'APL-Model', 'email', 'calculate', 'FeatureIDE', 'gpl', 'APL',\n       'fs_2017-05-22', 'aaed2000', 'FreeBSD-8_0_0', 'ea2468', 'Violet',\n       'berkeleyDB2', 'soletta_2015-06-26_18-38-56', 'eCos-3-0_i386pc',\n       'PPU', 'berkeleyDB1', 'axTLS', 'BattleofTanks', 'BankingSoftware',\n       'E-Shop', 'toybox_2020-12-06_00-02-46', 'DMIE', 'atlas_mips32_4kc'],\n      dtype=object)"
     },
     "execution_count": 3,
     "metadata": {},
     "output_type": "execute_result"
    }
   ],
   "source": [
    "print(baseline_data[\"instance_name\"].nunique())\n",
    "baseline_data[\"instance_name\"].unique()"
   ]
  },
  {
   "cell_type": "code",
   "execution_count": 4,
   "metadata": {
    "ExecuteTime": {
     "end_time": "2024-03-07T06:58:34.619362Z",
     "start_time": "2024-03-07T06:58:34.614778Z"
    }
   },
   "outputs": [
    {
     "data": {
      "text/plain": "                   instance_name  num_vars  num_clauses   baseline_alg  \\\n0     fiasco_2017-09-26_11-30-56       230         1181      FIDE-ICPL   \n1     fiasco_2017-09-26_11-30-56       230         1181      FIDE-ICPL   \n2     fiasco_2017-09-26_11-30-56       230         1181      FIDE-ICPL   \n3     fiasco_2017-09-26_11-30-56       230         1181      FIDE-ICPL   \n4     fiasco_2017-09-26_11-30-56       230         1181      FIDE-ICPL   \n...                          ...       ...          ...            ...   \n2580            atlas_mips32_4kc      1229         2875  ACTS-IPOF-CSP   \n2581            atlas_mips32_4kc      1229         2875  ACTS-IPOF-CSP   \n2582            atlas_mips32_4kc      1229         2875  ACTS-IPOF-CSP   \n2583            atlas_mips32_4kc      1229         2875  ACTS-IPOF-CSP   \n2584            atlas_mips32_4kc      1229         2875  ACTS-IPOF-CSP   \n\n     baseline_alg_conf  runtime  sample_size  \\\n0                   t2     5786        253.0   \n1                   t2     5756        244.0   \n2                   t2     6510        246.0   \n3                   t2     5444        261.0   \n4                   t2     6051        242.0   \n...                ...      ...          ...   \n2580                t2   900008          NaN   \n2581                t2   900008          NaN   \n2582                t2   900006          NaN   \n2583                t2   900008          NaN   \n2584                t2   900007          NaN   \n\n                     path_to_baseline_sample                   archive_path  \n0     2024-03-05_20-58-33/1_1_0_1_sample.csv  ./EXTERNAL_INPUT/baseline.zip  \n1     2024-03-05_20-58-33/1_2_0_1_sample.csv  ./EXTERNAL_INPUT/baseline.zip  \n2     2024-03-05_20-58-33/1_3_0_1_sample.csv  ./EXTERNAL_INPUT/baseline.zip  \n3     2024-03-05_20-58-33/1_4_0_1_sample.csv  ./EXTERNAL_INPUT/baseline.zip  \n4     2024-03-05_20-58-33/1_5_0_1_sample.csv  ./EXTERNAL_INPUT/baseline.zip  \n...                                      ...                            ...  \n2580                                    None  ./EXTERNAL_INPUT/baseline.zip  \n2581                                    None  ./EXTERNAL_INPUT/baseline.zip  \n2582                                    None  ./EXTERNAL_INPUT/baseline.zip  \n2583                                    None  ./EXTERNAL_INPUT/baseline.zip  \n2584                                    None  ./EXTERNAL_INPUT/baseline.zip  \n\n[2585 rows x 9 columns]",
      "text/html": "<div>\n<style scoped>\n    .dataframe tbody tr th:only-of-type {\n        vertical-align: middle;\n    }\n\n    .dataframe tbody tr th {\n        vertical-align: top;\n    }\n\n    .dataframe thead th {\n        text-align: right;\n    }\n</style>\n<table border=\"1\" class=\"dataframe\">\n  <thead>\n    <tr style=\"text-align: right;\">\n      <th></th>\n      <th>instance_name</th>\n      <th>num_vars</th>\n      <th>num_clauses</th>\n      <th>baseline_alg</th>\n      <th>baseline_alg_conf</th>\n      <th>runtime</th>\n      <th>sample_size</th>\n      <th>path_to_baseline_sample</th>\n      <th>archive_path</th>\n    </tr>\n  </thead>\n  <tbody>\n    <tr>\n      <th>0</th>\n      <td>fiasco_2017-09-26_11-30-56</td>\n      <td>230</td>\n      <td>1181</td>\n      <td>FIDE-ICPL</td>\n      <td>t2</td>\n      <td>5786</td>\n      <td>253.0</td>\n      <td>2024-03-05_20-58-33/1_1_0_1_sample.csv</td>\n      <td>./EXTERNAL_INPUT/baseline.zip</td>\n    </tr>\n    <tr>\n      <th>1</th>\n      <td>fiasco_2017-09-26_11-30-56</td>\n      <td>230</td>\n      <td>1181</td>\n      <td>FIDE-ICPL</td>\n      <td>t2</td>\n      <td>5756</td>\n      <td>244.0</td>\n      <td>2024-03-05_20-58-33/1_2_0_1_sample.csv</td>\n      <td>./EXTERNAL_INPUT/baseline.zip</td>\n    </tr>\n    <tr>\n      <th>2</th>\n      <td>fiasco_2017-09-26_11-30-56</td>\n      <td>230</td>\n      <td>1181</td>\n      <td>FIDE-ICPL</td>\n      <td>t2</td>\n      <td>6510</td>\n      <td>246.0</td>\n      <td>2024-03-05_20-58-33/1_3_0_1_sample.csv</td>\n      <td>./EXTERNAL_INPUT/baseline.zip</td>\n    </tr>\n    <tr>\n      <th>3</th>\n      <td>fiasco_2017-09-26_11-30-56</td>\n      <td>230</td>\n      <td>1181</td>\n      <td>FIDE-ICPL</td>\n      <td>t2</td>\n      <td>5444</td>\n      <td>261.0</td>\n      <td>2024-03-05_20-58-33/1_4_0_1_sample.csv</td>\n      <td>./EXTERNAL_INPUT/baseline.zip</td>\n    </tr>\n    <tr>\n      <th>4</th>\n      <td>fiasco_2017-09-26_11-30-56</td>\n      <td>230</td>\n      <td>1181</td>\n      <td>FIDE-ICPL</td>\n      <td>t2</td>\n      <td>6051</td>\n      <td>242.0</td>\n      <td>2024-03-05_20-58-33/1_5_0_1_sample.csv</td>\n      <td>./EXTERNAL_INPUT/baseline.zip</td>\n    </tr>\n    <tr>\n      <th>...</th>\n      <td>...</td>\n      <td>...</td>\n      <td>...</td>\n      <td>...</td>\n      <td>...</td>\n      <td>...</td>\n      <td>...</td>\n      <td>...</td>\n      <td>...</td>\n    </tr>\n    <tr>\n      <th>2580</th>\n      <td>atlas_mips32_4kc</td>\n      <td>1229</td>\n      <td>2875</td>\n      <td>ACTS-IPOF-CSP</td>\n      <td>t2</td>\n      <td>900008</td>\n      <td>NaN</td>\n      <td>None</td>\n      <td>./EXTERNAL_INPUT/baseline.zip</td>\n    </tr>\n    <tr>\n      <th>2581</th>\n      <td>atlas_mips32_4kc</td>\n      <td>1229</td>\n      <td>2875</td>\n      <td>ACTS-IPOF-CSP</td>\n      <td>t2</td>\n      <td>900008</td>\n      <td>NaN</td>\n      <td>None</td>\n      <td>./EXTERNAL_INPUT/baseline.zip</td>\n    </tr>\n    <tr>\n      <th>2582</th>\n      <td>atlas_mips32_4kc</td>\n      <td>1229</td>\n      <td>2875</td>\n      <td>ACTS-IPOF-CSP</td>\n      <td>t2</td>\n      <td>900006</td>\n      <td>NaN</td>\n      <td>None</td>\n      <td>./EXTERNAL_INPUT/baseline.zip</td>\n    </tr>\n    <tr>\n      <th>2583</th>\n      <td>atlas_mips32_4kc</td>\n      <td>1229</td>\n      <td>2875</td>\n      <td>ACTS-IPOF-CSP</td>\n      <td>t2</td>\n      <td>900008</td>\n      <td>NaN</td>\n      <td>None</td>\n      <td>./EXTERNAL_INPUT/baseline.zip</td>\n    </tr>\n    <tr>\n      <th>2584</th>\n      <td>atlas_mips32_4kc</td>\n      <td>1229</td>\n      <td>2875</td>\n      <td>ACTS-IPOF-CSP</td>\n      <td>t2</td>\n      <td>900007</td>\n      <td>NaN</td>\n      <td>None</td>\n      <td>./EXTERNAL_INPUT/baseline.zip</td>\n    </tr>\n  </tbody>\n</table>\n<p>2585 rows × 9 columns</p>\n</div>"
     },
     "execution_count": 4,
     "metadata": {},
     "output_type": "execute_result"
    }
   ],
   "source": [
    "baseline_data"
   ]
  },
  {
   "cell_type": "code",
   "execution_count": 5,
   "metadata": {
    "ExecuteTime": {
     "end_time": "2024-03-07T06:58:35.283918Z",
     "start_time": "2024-03-07T06:58:35.273823Z"
    }
   },
   "outputs": [
    {
     "data": {
      "text/plain": "                        instance  sample_size  \\\n0    soletta_2017-03-09_21-02-40           63   \n1    soletta_2017-03-09_21-02-40           64   \n2    soletta_2017-03-09_21-02-40           62   \n3    soletta_2017-03-09_21-02-40           63   \n4    soletta_2017-03-09_21-02-40           63   \n..                           ...          ...   \n240                     am31_sim           69   \n241                     am31_sim           72   \n242                     am31_sim           70   \n243                     am31_sim           72   \n244                     am31_sim           72   \n\n                                                  path  \n0    /home/krupke/Repositories/SampLNS/evaluation/0...  \n1    /home/krupke/Repositories/SampLNS/evaluation/0...  \n2    /home/krupke/Repositories/SampLNS/evaluation/0...  \n3    /home/krupke/Repositories/SampLNS/evaluation/0...  \n4    /home/krupke/Repositories/SampLNS/evaluation/0...  \n..                                                 ...  \n240  /home/krupke/Repositories/SampLNS/evaluation/0...  \n241  /home/krupke/Repositories/SampLNS/evaluation/0...  \n242  /home/krupke/Repositories/SampLNS/evaluation/0...  \n243  /home/krupke/Repositories/SampLNS/evaluation/0...  \n244  /home/krupke/Repositories/SampLNS/evaluation/0...  \n\n[245 rows x 3 columns]",
      "text/html": "<div>\n<style scoped>\n    .dataframe tbody tr th:only-of-type {\n        vertical-align: middle;\n    }\n\n    .dataframe tbody tr th {\n        vertical-align: top;\n    }\n\n    .dataframe thead th {\n        text-align: right;\n    }\n</style>\n<table border=\"1\" class=\"dataframe\">\n  <thead>\n    <tr style=\"text-align: right;\">\n      <th></th>\n      <th>instance</th>\n      <th>sample_size</th>\n      <th>path</th>\n    </tr>\n  </thead>\n  <tbody>\n    <tr>\n      <th>0</th>\n      <td>soletta_2017-03-09_21-02-40</td>\n      <td>63</td>\n      <td>/home/krupke/Repositories/SampLNS/evaluation/0...</td>\n    </tr>\n    <tr>\n      <th>1</th>\n      <td>soletta_2017-03-09_21-02-40</td>\n      <td>64</td>\n      <td>/home/krupke/Repositories/SampLNS/evaluation/0...</td>\n    </tr>\n    <tr>\n      <th>2</th>\n      <td>soletta_2017-03-09_21-02-40</td>\n      <td>62</td>\n      <td>/home/krupke/Repositories/SampLNS/evaluation/0...</td>\n    </tr>\n    <tr>\n      <th>3</th>\n      <td>soletta_2017-03-09_21-02-40</td>\n      <td>63</td>\n      <td>/home/krupke/Repositories/SampLNS/evaluation/0...</td>\n    </tr>\n    <tr>\n      <th>4</th>\n      <td>soletta_2017-03-09_21-02-40</td>\n      <td>63</td>\n      <td>/home/krupke/Repositories/SampLNS/evaluation/0...</td>\n    </tr>\n    <tr>\n      <th>...</th>\n      <td>...</td>\n      <td>...</td>\n      <td>...</td>\n    </tr>\n    <tr>\n      <th>240</th>\n      <td>am31_sim</td>\n      <td>69</td>\n      <td>/home/krupke/Repositories/SampLNS/evaluation/0...</td>\n    </tr>\n    <tr>\n      <th>241</th>\n      <td>am31_sim</td>\n      <td>72</td>\n      <td>/home/krupke/Repositories/SampLNS/evaluation/0...</td>\n    </tr>\n    <tr>\n      <th>242</th>\n      <td>am31_sim</td>\n      <td>70</td>\n      <td>/home/krupke/Repositories/SampLNS/evaluation/0...</td>\n    </tr>\n    <tr>\n      <th>243</th>\n      <td>am31_sim</td>\n      <td>72</td>\n      <td>/home/krupke/Repositories/SampLNS/evaluation/0...</td>\n    </tr>\n    <tr>\n      <th>244</th>\n      <td>am31_sim</td>\n      <td>72</td>\n      <td>/home/krupke/Repositories/SampLNS/evaluation/0...</td>\n    </tr>\n  </tbody>\n</table>\n<p>245 rows × 3 columns</p>\n</div>"
     },
     "execution_count": 5,
     "metadata": {},
     "output_type": "execute_result"
    }
   ],
   "source": [
    "from _conf import YASA_15MIN_DATA\n",
    "\n",
    "yasa_data = pd.read_json(YASA_15MIN_DATA)\n",
    "yasa_data"
   ]
  },
  {
   "cell_type": "code",
   "execution_count": 6,
   "metadata": {
    "ExecuteTime": {
     "end_time": "2024-03-07T06:58:35.936285Z",
     "start_time": "2024-03-07T06:58:35.932140Z"
    }
   },
   "outputs": [
    {
     "data": {
      "text/plain": "                   instance_name  sample_size  \\\n0    soletta_2017-03-09_21-02-40           63   \n1    soletta_2017-03-09_21-02-40           64   \n2    soletta_2017-03-09_21-02-40           62   \n3    soletta_2017-03-09_21-02-40           63   \n4    soletta_2017-03-09_21-02-40           63   \n..                           ...          ...   \n240                     am31_sim           69   \n241                     am31_sim           72   \n242                     am31_sim           70   \n243                     am31_sim           72   \n244                     am31_sim           72   \n\n                               path_to_baseline_sample  num_vars  num_clauses  \\\n0    /home/krupke/Repositories/SampLNS/evaluation/0...     458.0       1862.0   \n1    /home/krupke/Repositories/SampLNS/evaluation/0...     458.0       1862.0   \n2    /home/krupke/Repositories/SampLNS/evaluation/0...     458.0       1862.0   \n3    /home/krupke/Repositories/SampLNS/evaluation/0...     458.0       1862.0   \n4    /home/krupke/Repositories/SampLNS/evaluation/0...     458.0       1862.0   \n..                                                 ...       ...          ...   \n240  /home/krupke/Repositories/SampLNS/evaluation/0...    1178.0       2747.0   \n241  /home/krupke/Repositories/SampLNS/evaluation/0...    1178.0       2747.0   \n242  /home/krupke/Repositories/SampLNS/evaluation/0...    1178.0       2747.0   \n243  /home/krupke/Repositories/SampLNS/evaluation/0...    1178.0       2747.0   \n244  /home/krupke/Repositories/SampLNS/evaluation/0...    1178.0       2747.0   \n\n     runtime archive_path      baseline_alg baseline_alg_conf  \n0     900000         None  FIDE-YASA(15min)                    \n1     900000         None  FIDE-YASA(15min)                    \n2     900000         None  FIDE-YASA(15min)                    \n3     900000         None  FIDE-YASA(15min)                    \n4     900000         None  FIDE-YASA(15min)                    \n..       ...          ...               ...               ...  \n240   900000         None  FIDE-YASA(15min)                    \n241   900000         None  FIDE-YASA(15min)                    \n242   900000         None  FIDE-YASA(15min)                    \n243   900000         None  FIDE-YASA(15min)                    \n244   900000         None  FIDE-YASA(15min)                    \n\n[245 rows x 9 columns]",
      "text/html": "<div>\n<style scoped>\n    .dataframe tbody tr th:only-of-type {\n        vertical-align: middle;\n    }\n\n    .dataframe tbody tr th {\n        vertical-align: top;\n    }\n\n    .dataframe thead th {\n        text-align: right;\n    }\n</style>\n<table border=\"1\" class=\"dataframe\">\n  <thead>\n    <tr style=\"text-align: right;\">\n      <th></th>\n      <th>instance_name</th>\n      <th>sample_size</th>\n      <th>path_to_baseline_sample</th>\n      <th>num_vars</th>\n      <th>num_clauses</th>\n      <th>runtime</th>\n      <th>archive_path</th>\n      <th>baseline_alg</th>\n      <th>baseline_alg_conf</th>\n    </tr>\n  </thead>\n  <tbody>\n    <tr>\n      <th>0</th>\n      <td>soletta_2017-03-09_21-02-40</td>\n      <td>63</td>\n      <td>/home/krupke/Repositories/SampLNS/evaluation/0...</td>\n      <td>458.0</td>\n      <td>1862.0</td>\n      <td>900000</td>\n      <td>None</td>\n      <td>FIDE-YASA(15min)</td>\n      <td></td>\n    </tr>\n    <tr>\n      <th>1</th>\n      <td>soletta_2017-03-09_21-02-40</td>\n      <td>64</td>\n      <td>/home/krupke/Repositories/SampLNS/evaluation/0...</td>\n      <td>458.0</td>\n      <td>1862.0</td>\n      <td>900000</td>\n      <td>None</td>\n      <td>FIDE-YASA(15min)</td>\n      <td></td>\n    </tr>\n    <tr>\n      <th>2</th>\n      <td>soletta_2017-03-09_21-02-40</td>\n      <td>62</td>\n      <td>/home/krupke/Repositories/SampLNS/evaluation/0...</td>\n      <td>458.0</td>\n      <td>1862.0</td>\n      <td>900000</td>\n      <td>None</td>\n      <td>FIDE-YASA(15min)</td>\n      <td></td>\n    </tr>\n    <tr>\n      <th>3</th>\n      <td>soletta_2017-03-09_21-02-40</td>\n      <td>63</td>\n      <td>/home/krupke/Repositories/SampLNS/evaluation/0...</td>\n      <td>458.0</td>\n      <td>1862.0</td>\n      <td>900000</td>\n      <td>None</td>\n      <td>FIDE-YASA(15min)</td>\n      <td></td>\n    </tr>\n    <tr>\n      <th>4</th>\n      <td>soletta_2017-03-09_21-02-40</td>\n      <td>63</td>\n      <td>/home/krupke/Repositories/SampLNS/evaluation/0...</td>\n      <td>458.0</td>\n      <td>1862.0</td>\n      <td>900000</td>\n      <td>None</td>\n      <td>FIDE-YASA(15min)</td>\n      <td></td>\n    </tr>\n    <tr>\n      <th>...</th>\n      <td>...</td>\n      <td>...</td>\n      <td>...</td>\n      <td>...</td>\n      <td>...</td>\n      <td>...</td>\n      <td>...</td>\n      <td>...</td>\n      <td>...</td>\n    </tr>\n    <tr>\n      <th>240</th>\n      <td>am31_sim</td>\n      <td>69</td>\n      <td>/home/krupke/Repositories/SampLNS/evaluation/0...</td>\n      <td>1178.0</td>\n      <td>2747.0</td>\n      <td>900000</td>\n      <td>None</td>\n      <td>FIDE-YASA(15min)</td>\n      <td></td>\n    </tr>\n    <tr>\n      <th>241</th>\n      <td>am31_sim</td>\n      <td>72</td>\n      <td>/home/krupke/Repositories/SampLNS/evaluation/0...</td>\n      <td>1178.0</td>\n      <td>2747.0</td>\n      <td>900000</td>\n      <td>None</td>\n      <td>FIDE-YASA(15min)</td>\n      <td></td>\n    </tr>\n    <tr>\n      <th>242</th>\n      <td>am31_sim</td>\n      <td>70</td>\n      <td>/home/krupke/Repositories/SampLNS/evaluation/0...</td>\n      <td>1178.0</td>\n      <td>2747.0</td>\n      <td>900000</td>\n      <td>None</td>\n      <td>FIDE-YASA(15min)</td>\n      <td></td>\n    </tr>\n    <tr>\n      <th>243</th>\n      <td>am31_sim</td>\n      <td>72</td>\n      <td>/home/krupke/Repositories/SampLNS/evaluation/0...</td>\n      <td>1178.0</td>\n      <td>2747.0</td>\n      <td>900000</td>\n      <td>None</td>\n      <td>FIDE-YASA(15min)</td>\n      <td></td>\n    </tr>\n    <tr>\n      <th>244</th>\n      <td>am31_sim</td>\n      <td>72</td>\n      <td>/home/krupke/Repositories/SampLNS/evaluation/0...</td>\n      <td>1178.0</td>\n      <td>2747.0</td>\n      <td>900000</td>\n      <td>None</td>\n      <td>FIDE-YASA(15min)</td>\n      <td></td>\n    </tr>\n  </tbody>\n</table>\n<p>245 rows × 9 columns</p>\n</div>"
     },
     "execution_count": 6,
     "metadata": {},
     "output_type": "execute_result"
    }
   ],
   "source": [
    "# extend yasa data by missing informations\n",
    "yasa_data.rename(columns={\"instance\": \"instance_name\", \"path\": \"path_to_baseline_sample\"}, inplace=True)\n",
    "num_vars = baseline_data.set_index(\"instance_name\")[\"num_vars\"].to_dict()\n",
    "num_clauses = baseline_data.set_index(\"instance_name\")[\"num_clauses\"].to_dict()\n",
    "yasa_data[\"num_vars\"] = yasa_data[\"instance_name\"].map(num_vars)\n",
    "yasa_data[\"num_clauses\"] = yasa_data[\"instance_name\"].map(num_clauses)\n",
    "yasa_data[\"runtime\"] = 900_000\n",
    "yasa_data[\"archive_path\"] = None\n",
    "yasa_data[\"baseline_alg\"] = \"FIDE-YASA(15min)\"\n",
    "yasa_data[\"baseline_alg_conf\"] = \"\"\n",
    "yasa_data"
   ]
  },
  {
   "cell_type": "code",
   "execution_count": 7,
   "metadata": {
    "ExecuteTime": {
     "end_time": "2024-03-07T06:58:36.661086Z",
     "start_time": "2024-03-07T06:58:36.646044Z"
    }
   },
   "outputs": [
    {
     "data": {
      "text/plain": "                   instance_name  num_vars  num_clauses      baseline_alg  \\\n0     fiasco_2017-09-26_11-30-56     230.0       1181.0         FIDE-ICPL   \n1     fiasco_2017-09-26_11-30-56     230.0       1181.0         FIDE-ICPL   \n2     fiasco_2017-09-26_11-30-56     230.0       1181.0         FIDE-ICPL   \n3     fiasco_2017-09-26_11-30-56     230.0       1181.0         FIDE-ICPL   \n4     fiasco_2017-09-26_11-30-56     230.0       1181.0         FIDE-ICPL   \n...                          ...       ...          ...               ...   \n2825                    am31_sim    1178.0       2747.0  FIDE-YASA(15min)   \n2826                    am31_sim    1178.0       2747.0  FIDE-YASA(15min)   \n2827                    am31_sim    1178.0       2747.0  FIDE-YASA(15min)   \n2828                    am31_sim    1178.0       2747.0  FIDE-YASA(15min)   \n2829                    am31_sim    1178.0       2747.0  FIDE-YASA(15min)   \n\n     baseline_alg_conf  runtime  sample_size  \\\n0                   t2     5786        253.0   \n1                   t2     5756        244.0   \n2                   t2     6510        246.0   \n3                   t2     5444        261.0   \n4                   t2     6051        242.0   \n...                ...      ...          ...   \n2825                     900000         69.0   \n2826                     900000         72.0   \n2827                     900000         70.0   \n2828                     900000         72.0   \n2829                     900000         72.0   \n\n                                path_to_baseline_sample  \\\n0                2024-03-05_20-58-33/1_1_0_1_sample.csv   \n1                2024-03-05_20-58-33/1_2_0_1_sample.csv   \n2                2024-03-05_20-58-33/1_3_0_1_sample.csv   \n3                2024-03-05_20-58-33/1_4_0_1_sample.csv   \n4                2024-03-05_20-58-33/1_5_0_1_sample.csv   \n...                                                 ...   \n2825  /home/krupke/Repositories/SampLNS/evaluation/0...   \n2826  /home/krupke/Repositories/SampLNS/evaluation/0...   \n2827  /home/krupke/Repositories/SampLNS/evaluation/0...   \n2828  /home/krupke/Repositories/SampLNS/evaluation/0...   \n2829  /home/krupke/Repositories/SampLNS/evaluation/0...   \n\n                       archive_path  \n0     ./EXTERNAL_INPUT/baseline.zip  \n1     ./EXTERNAL_INPUT/baseline.zip  \n2     ./EXTERNAL_INPUT/baseline.zip  \n3     ./EXTERNAL_INPUT/baseline.zip  \n4     ./EXTERNAL_INPUT/baseline.zip  \n...                             ...  \n2825                           None  \n2826                           None  \n2827                           None  \n2828                           None  \n2829                           None  \n\n[2830 rows x 9 columns]",
      "text/html": "<div>\n<style scoped>\n    .dataframe tbody tr th:only-of-type {\n        vertical-align: middle;\n    }\n\n    .dataframe tbody tr th {\n        vertical-align: top;\n    }\n\n    .dataframe thead th {\n        text-align: right;\n    }\n</style>\n<table border=\"1\" class=\"dataframe\">\n  <thead>\n    <tr style=\"text-align: right;\">\n      <th></th>\n      <th>instance_name</th>\n      <th>num_vars</th>\n      <th>num_clauses</th>\n      <th>baseline_alg</th>\n      <th>baseline_alg_conf</th>\n      <th>runtime</th>\n      <th>sample_size</th>\n      <th>path_to_baseline_sample</th>\n      <th>archive_path</th>\n    </tr>\n  </thead>\n  <tbody>\n    <tr>\n      <th>0</th>\n      <td>fiasco_2017-09-26_11-30-56</td>\n      <td>230.0</td>\n      <td>1181.0</td>\n      <td>FIDE-ICPL</td>\n      <td>t2</td>\n      <td>5786</td>\n      <td>253.0</td>\n      <td>2024-03-05_20-58-33/1_1_0_1_sample.csv</td>\n      <td>./EXTERNAL_INPUT/baseline.zip</td>\n    </tr>\n    <tr>\n      <th>1</th>\n      <td>fiasco_2017-09-26_11-30-56</td>\n      <td>230.0</td>\n      <td>1181.0</td>\n      <td>FIDE-ICPL</td>\n      <td>t2</td>\n      <td>5756</td>\n      <td>244.0</td>\n      <td>2024-03-05_20-58-33/1_2_0_1_sample.csv</td>\n      <td>./EXTERNAL_INPUT/baseline.zip</td>\n    </tr>\n    <tr>\n      <th>2</th>\n      <td>fiasco_2017-09-26_11-30-56</td>\n      <td>230.0</td>\n      <td>1181.0</td>\n      <td>FIDE-ICPL</td>\n      <td>t2</td>\n      <td>6510</td>\n      <td>246.0</td>\n      <td>2024-03-05_20-58-33/1_3_0_1_sample.csv</td>\n      <td>./EXTERNAL_INPUT/baseline.zip</td>\n    </tr>\n    <tr>\n      <th>3</th>\n      <td>fiasco_2017-09-26_11-30-56</td>\n      <td>230.0</td>\n      <td>1181.0</td>\n      <td>FIDE-ICPL</td>\n      <td>t2</td>\n      <td>5444</td>\n      <td>261.0</td>\n      <td>2024-03-05_20-58-33/1_4_0_1_sample.csv</td>\n      <td>./EXTERNAL_INPUT/baseline.zip</td>\n    </tr>\n    <tr>\n      <th>4</th>\n      <td>fiasco_2017-09-26_11-30-56</td>\n      <td>230.0</td>\n      <td>1181.0</td>\n      <td>FIDE-ICPL</td>\n      <td>t2</td>\n      <td>6051</td>\n      <td>242.0</td>\n      <td>2024-03-05_20-58-33/1_5_0_1_sample.csv</td>\n      <td>./EXTERNAL_INPUT/baseline.zip</td>\n    </tr>\n    <tr>\n      <th>...</th>\n      <td>...</td>\n      <td>...</td>\n      <td>...</td>\n      <td>...</td>\n      <td>...</td>\n      <td>...</td>\n      <td>...</td>\n      <td>...</td>\n      <td>...</td>\n    </tr>\n    <tr>\n      <th>2825</th>\n      <td>am31_sim</td>\n      <td>1178.0</td>\n      <td>2747.0</td>\n      <td>FIDE-YASA(15min)</td>\n      <td></td>\n      <td>900000</td>\n      <td>69.0</td>\n      <td>/home/krupke/Repositories/SampLNS/evaluation/0...</td>\n      <td>None</td>\n    </tr>\n    <tr>\n      <th>2826</th>\n      <td>am31_sim</td>\n      <td>1178.0</td>\n      <td>2747.0</td>\n      <td>FIDE-YASA(15min)</td>\n      <td></td>\n      <td>900000</td>\n      <td>72.0</td>\n      <td>/home/krupke/Repositories/SampLNS/evaluation/0...</td>\n      <td>None</td>\n    </tr>\n    <tr>\n      <th>2827</th>\n      <td>am31_sim</td>\n      <td>1178.0</td>\n      <td>2747.0</td>\n      <td>FIDE-YASA(15min)</td>\n      <td></td>\n      <td>900000</td>\n      <td>70.0</td>\n      <td>/home/krupke/Repositories/SampLNS/evaluation/0...</td>\n      <td>None</td>\n    </tr>\n    <tr>\n      <th>2828</th>\n      <td>am31_sim</td>\n      <td>1178.0</td>\n      <td>2747.0</td>\n      <td>FIDE-YASA(15min)</td>\n      <td></td>\n      <td>900000</td>\n      <td>72.0</td>\n      <td>/home/krupke/Repositories/SampLNS/evaluation/0...</td>\n      <td>None</td>\n    </tr>\n    <tr>\n      <th>2829</th>\n      <td>am31_sim</td>\n      <td>1178.0</td>\n      <td>2747.0</td>\n      <td>FIDE-YASA(15min)</td>\n      <td></td>\n      <td>900000</td>\n      <td>72.0</td>\n      <td>/home/krupke/Repositories/SampLNS/evaluation/0...</td>\n      <td>None</td>\n    </tr>\n  </tbody>\n</table>\n<p>2830 rows × 9 columns</p>\n</div>"
     },
     "execution_count": 7,
     "metadata": {},
     "output_type": "execute_result"
    }
   ],
   "source": [
    "baseline_data = pd.concat([baseline_data, yasa_data], ignore_index=True)\n",
    "baseline_data"
   ]
  },
  {
   "cell_type": "code",
   "execution_count": 8,
   "metadata": {
    "ExecuteTime": {
     "end_time": "2024-03-07T06:58:39.557390Z",
     "start_time": "2024-03-07T06:58:39.535439Z"
    }
   },
   "outputs": [],
   "source": [
    "baseline_data.to_json(\"./OUTPUT/01_simple_baseline_data.json.zip\")"
   ]
  },
  {
   "cell_type": "code",
   "execution_count": null,
   "metadata": {
    "collapsed": false
   },
   "outputs": [],
   "source": []
  }
 ],
 "metadata": {
  "kernelspec": {
   "display_name": "mo310",
   "language": "python",
   "name": "python3"
  },
  "language_info": {
   "codemirror_mode": {
    "name": "ipython",
    "version": 3
   },
   "file_extension": ".py",
   "mimetype": "text/x-python",
   "name": "python",
   "nbconvert_exporter": "python",
   "pygments_lexer": "ipython3",
   "version": "3.12.0"
  },
  "orig_nbformat": 4
 },
 "nbformat": 4,
 "nbformat_minor": 2
}
