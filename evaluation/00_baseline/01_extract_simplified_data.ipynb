{
 "cells": [
  {
   "cell_type": "code",
   "execution_count": 4,
   "metadata": {
    "ExecuteTime": {
     "end_time": "2024-02-25T06:15:39.230301Z",
     "start_time": "2024-02-25T06:15:39.217146Z"
    }
   },
   "outputs": [],
   "source": [
    "import pandas as pd\n",
    "from _conf import BASELINE_ARCHIVES\n",
    "from _utils import parse_solution_overview"
   ]
  },
  {
   "cell_type": "code",
   "execution_count": 5,
   "metadata": {
    "ExecuteTime": {
     "end_time": "2024-02-25T06:15:39.719296Z",
     "start_time": "2024-02-25T06:15:39.601348Z"
    }
   },
   "outputs": [
    {
     "name": "stdout",
     "output_type": "stream",
     "text": [
      "Found the data folders: {'2024-02-23_21-52-29/', '2024-02-20_15-35-55/', '2024-02-23_21-52-24/', '2024-02-23_21-52-36/', '2024-02-23_21-52-42/', '2024-02-20_15-34-55/'}\n",
      "['FIDE-ICPL' 'FIDE-Chvatal' 'Incling' 'FIDE-YASA' 'ACTS-IPOG-FT'\n",
      " 'ACTS-IPOG-CSP' 'ACTS-IPOF-FT' 'ACTS-IPOF-CSP']\n",
      "['FIDE-ICPL' 'FIDE-Chvatal' 'Incling' 'FIDE-YASA' 'ACTS-IPOG-FT'\n",
      " 'ACTS-IPOG-CSP' 'ACTS-IPOF-FT' 'ACTS-IPOF-CSP']\n"
     ]
    },
    {
     "data": {
      "text/plain": "                   instance_name  num_vars  num_clauses   baseline_alg  \\\n0     fiasco_2017-09-26_11-30-56       230         1181      FIDE-ICPL   \n1     fiasco_2017-09-26_11-30-56       230         1181      FIDE-ICPL   \n2     fiasco_2017-09-26_11-30-56       230         1181      FIDE-ICPL   \n3     fiasco_2017-09-26_11-30-56       230         1181      FIDE-ICPL   \n4     fiasco_2017-09-26_11-30-56       230         1181      FIDE-ICPL   \n...                          ...       ...          ...            ...   \n2580                  EMBToolkit      1179         5414  ACTS-IPOF-CSP   \n2581                  EMBToolkit      1179         5414  ACTS-IPOF-CSP   \n2582                  EMBToolkit      1179         5414  ACTS-IPOF-CSP   \n2583                  EMBToolkit      1179         5414  ACTS-IPOF-CSP   \n2584                  EMBToolkit      1179         5414  ACTS-IPOF-CSP   \n\n     baseline_alg_conf  runtime  sample_size  \\\n0                   t2     5787        254.0   \n1                   t2     6100        243.0   \n2                   t2     7737        247.0   \n3                   t2     6441        261.0   \n4                   t2     6936        243.0   \n...                ...      ...          ...   \n2580                t2      138          NaN   \n2581                t2      162          NaN   \n2582                t2      154          NaN   \n2583                t2      151          NaN   \n2584                t2      138          NaN   \n\n                     path_to_baseline_sample                   archive_path  \n0     2024-02-23_21-52-29/1_1_0_1_sample.csv  ./EXTERNAL_INPUT/baseline.zip  \n1     2024-02-23_21-52-29/1_2_0_1_sample.csv  ./EXTERNAL_INPUT/baseline.zip  \n2     2024-02-23_21-52-29/1_3_0_1_sample.csv  ./EXTERNAL_INPUT/baseline.zip  \n3     2024-02-23_21-52-29/1_4_0_1_sample.csv  ./EXTERNAL_INPUT/baseline.zip  \n4     2024-02-23_21-52-29/1_5_0_1_sample.csv  ./EXTERNAL_INPUT/baseline.zip  \n...                                      ...                            ...  \n2580                                    None  ./EXTERNAL_INPUT/baseline.zip  \n2581                                    None  ./EXTERNAL_INPUT/baseline.zip  \n2582                                    None  ./EXTERNAL_INPUT/baseline.zip  \n2583                                    None  ./EXTERNAL_INPUT/baseline.zip  \n2584                                    None  ./EXTERNAL_INPUT/baseline.zip  \n\n[2585 rows x 9 columns]",
      "text/html": "<div>\n<style scoped>\n    .dataframe tbody tr th:only-of-type {\n        vertical-align: middle;\n    }\n\n    .dataframe tbody tr th {\n        vertical-align: top;\n    }\n\n    .dataframe thead th {\n        text-align: right;\n    }\n</style>\n<table border=\"1\" class=\"dataframe\">\n  <thead>\n    <tr style=\"text-align: right;\">\n      <th></th>\n      <th>instance_name</th>\n      <th>num_vars</th>\n      <th>num_clauses</th>\n      <th>baseline_alg</th>\n      <th>baseline_alg_conf</th>\n      <th>runtime</th>\n      <th>sample_size</th>\n      <th>path_to_baseline_sample</th>\n      <th>archive_path</th>\n    </tr>\n  </thead>\n  <tbody>\n    <tr>\n      <th>0</th>\n      <td>fiasco_2017-09-26_11-30-56</td>\n      <td>230</td>\n      <td>1181</td>\n      <td>FIDE-ICPL</td>\n      <td>t2</td>\n      <td>5787</td>\n      <td>254.0</td>\n      <td>2024-02-23_21-52-29/1_1_0_1_sample.csv</td>\n      <td>./EXTERNAL_INPUT/baseline.zip</td>\n    </tr>\n    <tr>\n      <th>1</th>\n      <td>fiasco_2017-09-26_11-30-56</td>\n      <td>230</td>\n      <td>1181</td>\n      <td>FIDE-ICPL</td>\n      <td>t2</td>\n      <td>6100</td>\n      <td>243.0</td>\n      <td>2024-02-23_21-52-29/1_2_0_1_sample.csv</td>\n      <td>./EXTERNAL_INPUT/baseline.zip</td>\n    </tr>\n    <tr>\n      <th>2</th>\n      <td>fiasco_2017-09-26_11-30-56</td>\n      <td>230</td>\n      <td>1181</td>\n      <td>FIDE-ICPL</td>\n      <td>t2</td>\n      <td>7737</td>\n      <td>247.0</td>\n      <td>2024-02-23_21-52-29/1_3_0_1_sample.csv</td>\n      <td>./EXTERNAL_INPUT/baseline.zip</td>\n    </tr>\n    <tr>\n      <th>3</th>\n      <td>fiasco_2017-09-26_11-30-56</td>\n      <td>230</td>\n      <td>1181</td>\n      <td>FIDE-ICPL</td>\n      <td>t2</td>\n      <td>6441</td>\n      <td>261.0</td>\n      <td>2024-02-23_21-52-29/1_4_0_1_sample.csv</td>\n      <td>./EXTERNAL_INPUT/baseline.zip</td>\n    </tr>\n    <tr>\n      <th>4</th>\n      <td>fiasco_2017-09-26_11-30-56</td>\n      <td>230</td>\n      <td>1181</td>\n      <td>FIDE-ICPL</td>\n      <td>t2</td>\n      <td>6936</td>\n      <td>243.0</td>\n      <td>2024-02-23_21-52-29/1_5_0_1_sample.csv</td>\n      <td>./EXTERNAL_INPUT/baseline.zip</td>\n    </tr>\n    <tr>\n      <th>...</th>\n      <td>...</td>\n      <td>...</td>\n      <td>...</td>\n      <td>...</td>\n      <td>...</td>\n      <td>...</td>\n      <td>...</td>\n      <td>...</td>\n      <td>...</td>\n    </tr>\n    <tr>\n      <th>2580</th>\n      <td>EMBToolkit</td>\n      <td>1179</td>\n      <td>5414</td>\n      <td>ACTS-IPOF-CSP</td>\n      <td>t2</td>\n      <td>138</td>\n      <td>NaN</td>\n      <td>None</td>\n      <td>./EXTERNAL_INPUT/baseline.zip</td>\n    </tr>\n    <tr>\n      <th>2581</th>\n      <td>EMBToolkit</td>\n      <td>1179</td>\n      <td>5414</td>\n      <td>ACTS-IPOF-CSP</td>\n      <td>t2</td>\n      <td>162</td>\n      <td>NaN</td>\n      <td>None</td>\n      <td>./EXTERNAL_INPUT/baseline.zip</td>\n    </tr>\n    <tr>\n      <th>2582</th>\n      <td>EMBToolkit</td>\n      <td>1179</td>\n      <td>5414</td>\n      <td>ACTS-IPOF-CSP</td>\n      <td>t2</td>\n      <td>154</td>\n      <td>NaN</td>\n      <td>None</td>\n      <td>./EXTERNAL_INPUT/baseline.zip</td>\n    </tr>\n    <tr>\n      <th>2583</th>\n      <td>EMBToolkit</td>\n      <td>1179</td>\n      <td>5414</td>\n      <td>ACTS-IPOF-CSP</td>\n      <td>t2</td>\n      <td>151</td>\n      <td>NaN</td>\n      <td>None</td>\n      <td>./EXTERNAL_INPUT/baseline.zip</td>\n    </tr>\n    <tr>\n      <th>2584</th>\n      <td>EMBToolkit</td>\n      <td>1179</td>\n      <td>5414</td>\n      <td>ACTS-IPOF-CSP</td>\n      <td>t2</td>\n      <td>138</td>\n      <td>NaN</td>\n      <td>None</td>\n      <td>./EXTERNAL_INPUT/baseline.zip</td>\n    </tr>\n  </tbody>\n</table>\n<p>2585 rows × 9 columns</p>\n</div>"
     },
     "execution_count": 5,
     "metadata": {},
     "output_type": "execute_result"
    }
   ],
   "source": [
    "baseline_data = pd.concat(\n",
    "    [parse_solution_overview(p) for p in BASELINE_ARCHIVES], ignore_index=True\n",
    ")\n",
    "baseline_data = baseline_data.drop_duplicates(\n",
    "    subset=[\n",
    "        \"Instance\",\n",
    "        \"AlgorithmID\",\n",
    "        \"SystemIteration\",\n",
    "        \"ModelID\",\n",
    "        \"Settings\",\n",
    "        \"ArchivePath\",\n",
    "    ]\n",
    ")\n",
    "baseline_data.loc[baseline_data[\"Path\"].isna(), \"SampleSize\"] = None\n",
    "baseline_data = baseline_data[\n",
    "    [\n",
    "        \"Instance\",\n",
    "        \"#Variables\",\n",
    "        \"#Clauses\",\n",
    "        \"Algorithm\",\n",
    "        \"Settings\",\n",
    "        \"Time\",\n",
    "        \"SampleSize\",\n",
    "        \"Path\",\n",
    "        \"ArchivePath\",\n",
    "    ]\n",
    "]\n",
    "baseline_data.rename(\n",
    "    columns={\n",
    "        \"Time\": \"runtime\",\n",
    "        \"#Variables\": \"num_vars\",\n",
    "        \"#Clauses\": \"num_clauses\",\n",
    "        \"Instance\": \"instance_name\",\n",
    "        \"Path\": \"path_to_baseline_sample\",\n",
    "        \"Algorithm\": \"baseline_alg\",\n",
    "        \"Settings\": \"baseline_alg_conf\",\n",
    "        \"SampleSize\": \"sample_size\",\n",
    "        \"ArchivePath\": \"archive_path\",\n",
    "    },\n",
    "    inplace=True,\n",
    ")\n",
    "print(baseline_data[\"baseline_alg\"].unique())\n",
    "baseline_data.dropna(subset=[\"baseline_alg\"], inplace=True)\n",
    "print(baseline_data[\"baseline_alg\"].unique())\n",
    "#print(list(baseline_data[\"baseline_alg\"]))\n",
    "baseline_data = baseline_data[~baseline_data[\"baseline_alg\"].str.startswith(\"YASA\")]\n",
    "baseline_data"
   ]
  },
  {
   "cell_type": "code",
   "execution_count": 6,
   "metadata": {
    "ExecuteTime": {
     "end_time": "2024-02-25T06:15:40.578930Z",
     "start_time": "2024-02-25T06:15:40.560123Z"
    }
   },
   "outputs": [
    {
     "name": "stdout",
     "output_type": "stream",
     "text": [
      "47\n"
     ]
    },
    {
     "data": {
      "text/plain": "array(['fiasco_2017-09-26_11-30-56', 'fiasco_2020-12-01_14-09-14',\n       'uclibc_2008-06-05_13-46-47', 'uclibc_2020-12-24_11-54-53',\n       'integrator_arm7', 'XSEngine', 'calculate', 'lcm', 'email',\n       'ChatClient', 'toybox_2006-10-31_23-30-06', 'car', 'FeatureIDE',\n       'FameDB', 'APL', 'SafeBali', 'TightVNC', 'APL-Model', 'gpl',\n       'SortingLine', 'dell', 'PPU', 'berkeleyDB1', 'axTLS',\n       'BattleofTanks', 'BankingSoftware', 'E-Shop',\n       'toybox_2020-12-06_00-02-46', 'DMIE', 'atlas_mips32_4kc',\n       'aaed2000', 'FreeBSD-8_0_0', 'ea2468', 'Violet', 'berkeleyDB2',\n       'soletta_2015-06-26_18-38-56', 'eCos-3-0_i386pc',\n       'soletta_2017-03-09_21-02-40', 'busybox_2007-01-24_09-14-09',\n       'fs_2017-05-22', 'WaterlooGenerated', 'financial_services',\n       'busybox-1_18_0', 'busybox-1_29_2', 'busybox_2020-12-16_21-53-05',\n       'am31_sim', 'EMBToolkit'], dtype=object)"
     },
     "execution_count": 6,
     "metadata": {},
     "output_type": "execute_result"
    }
   ],
   "source": [
    "print(baseline_data[\"instance_name\"].nunique())\n",
    "baseline_data[\"instance_name\"].unique()"
   ]
  },
  {
   "cell_type": "code",
   "execution_count": 7,
   "metadata": {
    "ExecuteTime": {
     "end_time": "2024-02-25T06:15:41.222574Z",
     "start_time": "2024-02-25T06:15:41.217476Z"
    }
   },
   "outputs": [
    {
     "data": {
      "text/plain": "                   instance_name  num_vars  num_clauses   baseline_alg  \\\n0     fiasco_2017-09-26_11-30-56       230         1181      FIDE-ICPL   \n1     fiasco_2017-09-26_11-30-56       230         1181      FIDE-ICPL   \n2     fiasco_2017-09-26_11-30-56       230         1181      FIDE-ICPL   \n3     fiasco_2017-09-26_11-30-56       230         1181      FIDE-ICPL   \n4     fiasco_2017-09-26_11-30-56       230         1181      FIDE-ICPL   \n...                          ...       ...          ...            ...   \n2580                  EMBToolkit      1179         5414  ACTS-IPOF-CSP   \n2581                  EMBToolkit      1179         5414  ACTS-IPOF-CSP   \n2582                  EMBToolkit      1179         5414  ACTS-IPOF-CSP   \n2583                  EMBToolkit      1179         5414  ACTS-IPOF-CSP   \n2584                  EMBToolkit      1179         5414  ACTS-IPOF-CSP   \n\n     baseline_alg_conf  runtime  sample_size  \\\n0                   t2     5787        254.0   \n1                   t2     6100        243.0   \n2                   t2     7737        247.0   \n3                   t2     6441        261.0   \n4                   t2     6936        243.0   \n...                ...      ...          ...   \n2580                t2      138          NaN   \n2581                t2      162          NaN   \n2582                t2      154          NaN   \n2583                t2      151          NaN   \n2584                t2      138          NaN   \n\n                     path_to_baseline_sample                   archive_path  \n0     2024-02-23_21-52-29/1_1_0_1_sample.csv  ./EXTERNAL_INPUT/baseline.zip  \n1     2024-02-23_21-52-29/1_2_0_1_sample.csv  ./EXTERNAL_INPUT/baseline.zip  \n2     2024-02-23_21-52-29/1_3_0_1_sample.csv  ./EXTERNAL_INPUT/baseline.zip  \n3     2024-02-23_21-52-29/1_4_0_1_sample.csv  ./EXTERNAL_INPUT/baseline.zip  \n4     2024-02-23_21-52-29/1_5_0_1_sample.csv  ./EXTERNAL_INPUT/baseline.zip  \n...                                      ...                            ...  \n2580                                    None  ./EXTERNAL_INPUT/baseline.zip  \n2581                                    None  ./EXTERNAL_INPUT/baseline.zip  \n2582                                    None  ./EXTERNAL_INPUT/baseline.zip  \n2583                                    None  ./EXTERNAL_INPUT/baseline.zip  \n2584                                    None  ./EXTERNAL_INPUT/baseline.zip  \n\n[2585 rows x 9 columns]",
      "text/html": "<div>\n<style scoped>\n    .dataframe tbody tr th:only-of-type {\n        vertical-align: middle;\n    }\n\n    .dataframe tbody tr th {\n        vertical-align: top;\n    }\n\n    .dataframe thead th {\n        text-align: right;\n    }\n</style>\n<table border=\"1\" class=\"dataframe\">\n  <thead>\n    <tr style=\"text-align: right;\">\n      <th></th>\n      <th>instance_name</th>\n      <th>num_vars</th>\n      <th>num_clauses</th>\n      <th>baseline_alg</th>\n      <th>baseline_alg_conf</th>\n      <th>runtime</th>\n      <th>sample_size</th>\n      <th>path_to_baseline_sample</th>\n      <th>archive_path</th>\n    </tr>\n  </thead>\n  <tbody>\n    <tr>\n      <th>0</th>\n      <td>fiasco_2017-09-26_11-30-56</td>\n      <td>230</td>\n      <td>1181</td>\n      <td>FIDE-ICPL</td>\n      <td>t2</td>\n      <td>5787</td>\n      <td>254.0</td>\n      <td>2024-02-23_21-52-29/1_1_0_1_sample.csv</td>\n      <td>./EXTERNAL_INPUT/baseline.zip</td>\n    </tr>\n    <tr>\n      <th>1</th>\n      <td>fiasco_2017-09-26_11-30-56</td>\n      <td>230</td>\n      <td>1181</td>\n      <td>FIDE-ICPL</td>\n      <td>t2</td>\n      <td>6100</td>\n      <td>243.0</td>\n      <td>2024-02-23_21-52-29/1_2_0_1_sample.csv</td>\n      <td>./EXTERNAL_INPUT/baseline.zip</td>\n    </tr>\n    <tr>\n      <th>2</th>\n      <td>fiasco_2017-09-26_11-30-56</td>\n      <td>230</td>\n      <td>1181</td>\n      <td>FIDE-ICPL</td>\n      <td>t2</td>\n      <td>7737</td>\n      <td>247.0</td>\n      <td>2024-02-23_21-52-29/1_3_0_1_sample.csv</td>\n      <td>./EXTERNAL_INPUT/baseline.zip</td>\n    </tr>\n    <tr>\n      <th>3</th>\n      <td>fiasco_2017-09-26_11-30-56</td>\n      <td>230</td>\n      <td>1181</td>\n      <td>FIDE-ICPL</td>\n      <td>t2</td>\n      <td>6441</td>\n      <td>261.0</td>\n      <td>2024-02-23_21-52-29/1_4_0_1_sample.csv</td>\n      <td>./EXTERNAL_INPUT/baseline.zip</td>\n    </tr>\n    <tr>\n      <th>4</th>\n      <td>fiasco_2017-09-26_11-30-56</td>\n      <td>230</td>\n      <td>1181</td>\n      <td>FIDE-ICPL</td>\n      <td>t2</td>\n      <td>6936</td>\n      <td>243.0</td>\n      <td>2024-02-23_21-52-29/1_5_0_1_sample.csv</td>\n      <td>./EXTERNAL_INPUT/baseline.zip</td>\n    </tr>\n    <tr>\n      <th>...</th>\n      <td>...</td>\n      <td>...</td>\n      <td>...</td>\n      <td>...</td>\n      <td>...</td>\n      <td>...</td>\n      <td>...</td>\n      <td>...</td>\n      <td>...</td>\n    </tr>\n    <tr>\n      <th>2580</th>\n      <td>EMBToolkit</td>\n      <td>1179</td>\n      <td>5414</td>\n      <td>ACTS-IPOF-CSP</td>\n      <td>t2</td>\n      <td>138</td>\n      <td>NaN</td>\n      <td>None</td>\n      <td>./EXTERNAL_INPUT/baseline.zip</td>\n    </tr>\n    <tr>\n      <th>2581</th>\n      <td>EMBToolkit</td>\n      <td>1179</td>\n      <td>5414</td>\n      <td>ACTS-IPOF-CSP</td>\n      <td>t2</td>\n      <td>162</td>\n      <td>NaN</td>\n      <td>None</td>\n      <td>./EXTERNAL_INPUT/baseline.zip</td>\n    </tr>\n    <tr>\n      <th>2582</th>\n      <td>EMBToolkit</td>\n      <td>1179</td>\n      <td>5414</td>\n      <td>ACTS-IPOF-CSP</td>\n      <td>t2</td>\n      <td>154</td>\n      <td>NaN</td>\n      <td>None</td>\n      <td>./EXTERNAL_INPUT/baseline.zip</td>\n    </tr>\n    <tr>\n      <th>2583</th>\n      <td>EMBToolkit</td>\n      <td>1179</td>\n      <td>5414</td>\n      <td>ACTS-IPOF-CSP</td>\n      <td>t2</td>\n      <td>151</td>\n      <td>NaN</td>\n      <td>None</td>\n      <td>./EXTERNAL_INPUT/baseline.zip</td>\n    </tr>\n    <tr>\n      <th>2584</th>\n      <td>EMBToolkit</td>\n      <td>1179</td>\n      <td>5414</td>\n      <td>ACTS-IPOF-CSP</td>\n      <td>t2</td>\n      <td>138</td>\n      <td>NaN</td>\n      <td>None</td>\n      <td>./EXTERNAL_INPUT/baseline.zip</td>\n    </tr>\n  </tbody>\n</table>\n<p>2585 rows × 9 columns</p>\n</div>"
     },
     "execution_count": 7,
     "metadata": {},
     "output_type": "execute_result"
    }
   ],
   "source": [
    "baseline_data"
   ]
  },
  {
   "cell_type": "code",
   "execution_count": 8,
   "metadata": {
    "ExecuteTime": {
     "end_time": "2024-02-25T06:15:41.957141Z",
     "start_time": "2024-02-25T06:15:41.929707Z"
    }
   },
   "outputs": [],
   "source": [
    "baseline_data.to_json(\"./OUTPUT/01_simple_baseline_data.json.zip\")"
   ]
  },
  {
   "cell_type": "code",
   "execution_count": null,
   "outputs": [],
   "source": [],
   "metadata": {
    "collapsed": false
   }
  }
 ],
 "metadata": {
  "kernelspec": {
   "display_name": "mo310",
   "language": "python",
   "name": "python3"
  },
  "language_info": {
   "codemirror_mode": {
    "name": "ipython",
    "version": 3
   },
   "file_extension": ".py",
   "mimetype": "text/x-python",
   "name": "python",
   "nbconvert_exporter": "python",
   "pygments_lexer": "ipython3",
   "version": "3.10.12"
  },
  "orig_nbformat": 4
 },
 "nbformat": 4,
 "nbformat_minor": 2
}
